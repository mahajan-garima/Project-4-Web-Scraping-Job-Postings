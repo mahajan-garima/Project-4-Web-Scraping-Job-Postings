{
 "cells": [
  {
   "cell_type": "markdown",
   "metadata": {},
   "source": [
    "----\n",
    "# Data Cleaning Part-(2)\n",
    "----"
   ]
  },
  {
   "cell_type": "markdown",
   "metadata": {},
   "source": [
    "In this second part of my data cleaning process I emphasised my full energy on the Salary column. I was interested in every salary in the dataset. As the data was scraped, the salary was messy. I wanted a salaries as a single figure detailing expected annual compensation."
   ]
  },
  {
   "cell_type": "code",
   "execution_count": 1,
   "metadata": {},
   "outputs": [],
   "source": [
    "# Libraries\n",
    "import pandas as pd\n",
    "import numpy as np\n",
    "import re\n",
    "import string\n",
    "\n",
    "import warnings\n",
    "warnings.filterwarnings('ignore')"
   ]
  },
  {
   "cell_type": "markdown",
   "metadata": {},
   "source": [
    "#### Load the dataset"
   ]
  },
  {
   "cell_type": "code",
   "execution_count": 2,
   "metadata": {},
   "outputs": [],
   "source": [
    "jobs = pd.read_csv('job_postings2.csv')"
   ]
  },
  {
   "cell_type": "markdown",
   "metadata": {},
   "source": [
    "#### Removing Duplicates if any:"
   ]
  },
  {
   "cell_type": "code",
   "execution_count": 3,
   "metadata": {},
   "outputs": [],
   "source": [
    "jobs.drop_duplicates(subset=['job_area', 'job_classification', 'job_company','job_description',\n",
    "                             'job_location', 'job_salary', 'job_title', 'job_name',\n",
    "                             'job_type'], keep='first', inplace= True)"
   ]
  },
  {
   "cell_type": "code",
   "execution_count": 4,
   "metadata": {},
   "outputs": [
    {
     "data": {
      "text/plain": [
       "(879, 10)"
      ]
     },
     "execution_count": 4,
     "metadata": {},
     "output_type": "execute_result"
    }
   ],
   "source": [
    "jobs.shape"
   ]
  },
  {
   "cell_type": "code",
   "execution_count": 5,
   "metadata": {},
   "outputs": [
    {
     "data": {
      "text/html": [
       "<div>\n",
       "<style scoped>\n",
       "    .dataframe tbody tr th:only-of-type {\n",
       "        vertical-align: middle;\n",
       "    }\n",
       "\n",
       "    .dataframe tbody tr th {\n",
       "        vertical-align: top;\n",
       "    }\n",
       "\n",
       "    .dataframe thead th {\n",
       "        text-align: right;\n",
       "    }\n",
       "</style>\n",
       "<table border=\"1\" class=\"dataframe\">\n",
       "  <thead>\n",
       "    <tr style=\"text-align: right;\">\n",
       "      <th></th>\n",
       "      <th>Unnamed: 0</th>\n",
       "      <th>job_area</th>\n",
       "      <th>job_classification</th>\n",
       "      <th>job_company</th>\n",
       "      <th>job_description</th>\n",
       "      <th>job_location</th>\n",
       "      <th>job_salary</th>\n",
       "      <th>job_title</th>\n",
       "      <th>job_type</th>\n",
       "      <th>job_name</th>\n",
       "    </tr>\n",
       "  </thead>\n",
       "  <tbody>\n",
       "    <tr>\n",
       "      <th>0</th>\n",
       "      <td>0</td>\n",
       "      <td>CBD and Inner Suburbs</td>\n",
       "      <td>Science and Technology</td>\n",
       "      <td>SEEK Limited</td>\n",
       "      <td>The Opportunity We're looking for an experienc...</td>\n",
       "      <td>Melbourne</td>\n",
       "      <td>Base + Super + Profit + Awesome Problems to So...</td>\n",
       "      <td>Senior Data Scientist</td>\n",
       "      <td>Full Time</td>\n",
       "      <td>senior data scientist</td>\n",
       "    </tr>\n",
       "    <tr>\n",
       "      <th>1</th>\n",
       "      <td>1</td>\n",
       "      <td>Parramatta and Western Suburbs</td>\n",
       "      <td>Information and Communication Technology</td>\n",
       "      <td>ecareer employment services</td>\n",
       "      <td>Put Data to best useDesign &amp; Develop BI Soluti...</td>\n",
       "      <td>Sydney</td>\n",
       "      <td>$130-140K Package</td>\n",
       "      <td>Senior Data Engineer   Business Intelligence D...</td>\n",
       "      <td>Full Time</td>\n",
       "      <td>senior data scientist</td>\n",
       "    </tr>\n",
       "  </tbody>\n",
       "</table>\n",
       "</div>"
      ],
      "text/plain": [
       "   Unnamed: 0                        job_area  \\\n",
       "0           0           CBD and Inner Suburbs   \n",
       "1           1  Parramatta and Western Suburbs   \n",
       "\n",
       "                         job_classification                  job_company  \\\n",
       "0                    Science and Technology                 SEEK Limited   \n",
       "1  Information and Communication Technology  ecareer employment services   \n",
       "\n",
       "                                     job_description job_location  \\\n",
       "0  The Opportunity We're looking for an experienc...    Melbourne   \n",
       "1  Put Data to best useDesign & Develop BI Soluti...       Sydney   \n",
       "\n",
       "                                          job_salary  \\\n",
       "0  Base + Super + Profit + Awesome Problems to So...   \n",
       "1                                  $130-140K Package   \n",
       "\n",
       "                                           job_title   job_type  \\\n",
       "0                              Senior Data Scientist  Full Time   \n",
       "1  Senior Data Engineer   Business Intelligence D...  Full Time   \n",
       "\n",
       "                job_name  \n",
       "0  senior data scientist  \n",
       "1  senior data scientist  "
      ]
     },
     "execution_count": 5,
     "metadata": {},
     "output_type": "execute_result"
    }
   ],
   "source": [
    "jobs.head(2)"
   ]
  },
  {
   "cell_type": "markdown",
   "metadata": {},
   "source": [
    "#### Removing Unneccesary columns"
   ]
  },
  {
   "cell_type": "code",
   "execution_count": 6,
   "metadata": {},
   "outputs": [],
   "source": [
    "jobs= jobs.drop(['Unnamed: 0'],axis=1)"
   ]
  },
  {
   "cell_type": "markdown",
   "metadata": {},
   "source": [
    "#### Reseting the index "
   ]
  },
  {
   "cell_type": "code",
   "execution_count": 7,
   "metadata": {},
   "outputs": [],
   "source": [
    "jobs.reset_index(inplace=True,drop=True)"
   ]
  },
  {
   "cell_type": "markdown",
   "metadata": {},
   "source": [
    "#### Fixing the salary Column"
   ]
  },
  {
   "cell_type": "markdown",
   "metadata": {},
   "source": [
    "The function **clean_sal** removes the **\"k\"** following a digit [0-9] and replaces with '000'"
   ]
  },
  {
   "cell_type": "code",
   "execution_count": 8,
   "metadata": {},
   "outputs": [],
   "source": [
    "def clean_sal(text):\n",
    "    text = text.lower()\n",
    "    text = re.sub(r\"([0-9])[k]\",r\"\\1 000\",text)\n",
    "#     text = re.sub(r\",\",\"\",text)\n",
    "    text = re.sub(r\"\\s\",\"\",text)\n",
    "    \n",
    "    return text"
   ]
  },
  {
   "cell_type": "code",
   "execution_count": 9,
   "metadata": {},
   "outputs": [],
   "source": [
    "jobs['salary1']= jobs['job_salary'].apply(lambda x: clean_sal(x))"
   ]
  },
  {
   "cell_type": "code",
   "execution_count": 10,
   "metadata": {},
   "outputs": [],
   "source": [
    "def salary(text):\n",
    "    text = text.lower()\n",
    "    pattern = re.compile('.*(\\$[\\d,])+\\s?-?\\$?[\\d,]+')\n",
    "    matches=re.match(pattern,text)\n",
    "    if matches:\n",
    "        return matches.group(0)\n",
    "    else:\n",
    "         None"
   ]
  },
  {
   "cell_type": "code",
   "execution_count": 11,
   "metadata": {},
   "outputs": [],
   "source": [
    " jobs['salary']= jobs['salary1'].apply(lambda x: salary(x))"
   ]
  },
  {
   "cell_type": "code",
   "execution_count": 12,
   "metadata": {},
   "outputs": [],
   "source": [
    "for index,value in jobs['salary'].iteritems():\n",
    "    if value == None:\n",
    "        jobs.loc[index,'salary']=0\n",
    "    else:\n",
    "        jobs.loc[index,'salary']=value"
   ]
  },
  {
   "cell_type": "markdown",
   "metadata": {},
   "source": [
    "#### replacing all the special Characters and the few text"
   ]
  },
  {
   "cell_type": "code",
   "execution_count": 13,
   "metadata": {},
   "outputs": [],
   "source": [
    "jobs[\"salary\"] = jobs[\"salary\"].str.replace('$','')\n",
    "jobs[\"salary\"] = jobs[\"salary\"].str.replace('+','')\n",
    "jobs[\"salary\"] = jobs[\"salary\"].str.replace('|','')\n",
    "jobs[\"salary\"] = jobs[\"salary\"].str.replace('(','')\n",
    "jobs[\"salary\"] = jobs[\"salary\"].str.replace(',','')\n",
    "jobs[\"salary\"] = jobs[\"salary\"].str.replace('au',' ')\n",
    "jobs[\"salary\"] = jobs[\"salary\"].str.replace('to','-')\n",
    "jobs[\"salary\"] = jobs[\"salary\"].str.replace('excellentsalarypackage','')\n",
    "jobs[\"salary\"] = jobs[\"salary\"].str.replace('circa',' ')\n",
    "jobs[\"salary\"] = jobs[\"salary\"].str.replace('up',' ')\n",
    "jobs[\"salary\"] = jobs[\"salary\"].str.replace('dailyrate','')\n",
    "jobs[\"salary\"] = jobs[\"salary\"].str.replace('upto',' ')\n",
    "jobs[\"salary\"] = jobs[\"salary\"].str.replace('c','')\n",
    "jobs[\"salary\"] = jobs[\"salary\"].str.replace('ov','')\n",
    "jobs[\"salary\"] = jobs[\"salary\"].str.replace('basesalary','')\n",
    "jobs[\"salary\"] = jobs[\"salary\"].str.replace('toau',' ')\n",
    "jobs[\"salary\"] = jobs[\"salary\"].str.replace('aso6','')\n",
    "jobs[\"salary\"] = jobs[\"salary\"].str.replace('level','')\n",
    "jobs[\"salary\"] = jobs[\"salary\"].str.replace('er','')\n",
    "jobs[\"salary\"] = jobs[\"salary\"].str.replace('3monthontratext-','')\n",
    "jobs[\"salary\"] = jobs[\"salary\"].str.replace('3monthontrat+ext-','')\n",
    "jobs[\"salary\"] = jobs[\"salary\"].str.replace('remunerationpakage','')\n",
    "jobs[\"salary\"] = jobs[\"salary\"].str.replace('remunationpakage','')\n",
    "jobs[\"salary\"] = jobs[\"salary\"].str.replace('aggressiveomms|over','')\n",
    "jobs[\"salary\"] = jobs[\"salary\"].str.replace('targetis130000pluss open-senior','')\n",
    "jobs[\"salary\"] = jobs[\"salary\"].str.replace('on-rpm:','')\n",
    "jobs[\"salary\"] = jobs[\"salary\"].str.replace('targetis130000pluss ..opentosenior','')"
   ]
  },
  {
   "cell_type": "markdown",
   "metadata": {},
   "source": [
    "This take the salary from the cleaned salary column and returns the mean if the salary is a range otherwise return the exact amount"
   ]
  },
  {
   "cell_type": "code",
   "execution_count": 14,
   "metadata": {},
   "outputs": [],
   "source": [
    "y=list()\n",
    "for index,val in jobs.salary.iteritems():\n",
    "    y=list()\n",
    "#     print(index,val)\n",
    "    ind = isinstance(val,float)\n",
    "    \n",
    "    if  ind :\n",
    "        continue\n",
    "    ind2 = isinstance(val,int)\n",
    "    if ind2:\n",
    "        continue\n",
    "    else:\n",
    "        val1= val.split(\"-\")\n",
    "        val1=list(filter(None,val1))\n",
    "    for num in val1:\n",
    "        try:\n",
    "            num = int(num)\n",
    "            y.append(num)\n",
    "        except:\n",
    "            continue\n",
    "    \n",
    "    ynum=round(np.mean(y),2)\n",
    "    jobs.loc[index,\"sal\"]=ynum\n",
    "       "
   ]
  },
  {
   "cell_type": "markdown",
   "metadata": {},
   "source": [
    "#### Extracting the different \"_hourly_\" patterns from the salary column so as to normalize the salary column"
   ]
  },
  {
   "cell_type": "code",
   "execution_count": 15,
   "metadata": {},
   "outputs": [],
   "source": [
    "jobs.loc[jobs['job_salary'].str.contains('hour'),\"period1\"]=\"hour\"\n",
    "jobs.loc[jobs['job_salary'].str.contains('hourly'),\"period1\"]=\"hour\"\n",
    "jobs.loc[jobs['job_salary'].str.contains('phr'),\"period1\"]=\"hour\"\n",
    "jobs.loc[jobs['job_salary'].str.contains('hr'),\"period1\"]=\"hour\"\n",
    "jobs.loc[jobs['job_salary'].str.contains('perhour'),\"period1\"]=\"hour\"\n",
    "jobs.loc[jobs['job_salary'].str.contains('p.h.'),\"period1\"]=\"hour\"\n",
    "jobs.loc[jobs['job_salary'].str.contains('p/hr'),\"period1\"]=\"hour\"\n",
    "jobs.loc[jobs['job_salary'].str.contains('ph'),\"period1\"]=\"hour\""
   ]
  },
  {
   "cell_type": "markdown",
   "metadata": {},
   "source": [
    "#### Extracting the different  \"_daily_\"  patterns from the salary column so as to normalize the salary column"
   ]
  },
  {
   "cell_type": "code",
   "execution_count": 16,
   "metadata": {},
   "outputs": [],
   "source": [
    "jobs.loc[jobs['job_salary'].str.contains('p.d.'),\"period2\"]=\"day\"\n",
    "jobs.loc[jobs['job_salary'].str.contains('pd'),\"period2\"]=\"day\"\n",
    "jobs.loc[jobs['job_salary'].str.contains('day'),\"period2\"]=\"day\"\n",
    "jobs.loc[jobs['job_salary'].str.contains('daily'),\"period2\"]=\"day\"\n",
    "jobs.loc[jobs['job_salary'].str.contains('dailyrate'),\"period2\"]=\"day\"\n",
    "jobs.loc[jobs['job_salary'].str.contains('p/d'),\"period2\"]=\"day\"\n",
    "jobs.loc[jobs['job_salary'].str.contains('per day'),\"period2\"]=\"day\"\n",
    "jobs.loc[jobs['job_salary'].str.contains('perday'),\"period2\"]=\"day\""
   ]
  },
  {
   "cell_type": "code",
   "execution_count": 17,
   "metadata": {},
   "outputs": [],
   "source": [
    "#### Parsing through the daily and hourly salaries and converting them to annual package."
   ]
  },
  {
   "cell_type": "markdown",
   "metadata": {},
   "source": [
    "I had 56 daily rates and 14 hourly rates, to make the salary column consistent, I multipiled daily rates by 260 and hourly by 2080."
   ]
  },
  {
   "cell_type": "code",
   "execution_count": 18,
   "metadata": {},
   "outputs": [],
   "source": [
    "jobs['final_salary']=jobs['sal']"
   ]
  },
  {
   "cell_type": "code",
   "execution_count": 19,
   "metadata": {},
   "outputs": [],
   "source": [
    "for index,val1 in jobs['period1'].iteritems():\n",
    "    if val1 == \"hour\":\n",
    "        jobs['final_salary'][index] = jobs['sal'][index] * 2080\n",
    "    else:\n",
    "        jobs['final_salary'][index]=jobs['final_salary'][index]"
   ]
  },
  {
   "cell_type": "code",
   "execution_count": 20,
   "metadata": {},
   "outputs": [],
   "source": [
    "for index,val1 in jobs['period2'].iteritems():\n",
    "    if val1 == \"day\":\n",
    "        jobs['final_salary'][index] = jobs['sal'][index] * 260\n",
    "    else:\n",
    "        jobs['final_salary'][index]=jobs['final_salary'][index]"
   ]
  },
  {
   "cell_type": "markdown",
   "metadata": {},
   "source": [
    "#### Fixing few salaries manually"
   ]
  },
  {
   "cell_type": "code",
   "execution_count": 21,
   "metadata": {},
   "outputs": [],
   "source": [
    "jobs.loc[1, 'final_salary'] = 135000.0\n",
    "jobs.loc[77, 'final_salary'] = 165000.0\n",
    "jobs.loc[626, 'final_salary'] = 140000.0\n",
    "jobs.loc[720, 'final_salary'] = 100000.0\n",
    "jobs.loc[829, 'final_salary'] = 150000.0\n",
    "jobs.loc[839, 'final_salary'] = 150000.0\n",
    "jobs.loc[227, 'final_salary'] = 240000.0\n",
    "jobs.loc[232, 'final_salary'] = 110500.0\n",
    "jobs.loc[249, 'final_salary'] = 60000.0\n",
    "jobs.loc[299, 'final_salary'] = 72800.0\n",
    "jobs.loc[418, 'final_salary'] = 140000.0\n",
    "jobs.loc[492, 'final_salary'] = 140000.0\n",
    "jobs.loc[517, 'final_salary'] = 137500.0\n",
    "jobs.loc[633, 'final_salary'] = 169000.0\n",
    "jobs.loc[642, 'final_salary'] = 125000.0\n",
    "jobs.loc[811, 'final_salary'] = 190000.0\n",
    "jobs.loc[820, 'final_salary'] = 39000.0\n",
    "jobs.loc[841, 'final_salary'] = 140000.0\n",
    "jobs.loc[843, 'final_salary'] = 89012.0\n",
    "jobs.loc[849, 'final_salary'] = 89012.0\n",
    "jobs.loc[866, 'final_salary'] = 180000.0\n",
    "jobs.loc[868, 'final_salary'] = 105000.0\n",
    "jobs.loc[810, 'final_salary'] = 105000.0\n",
    "jobs.loc[570, 'final_salary'] = 130000.0\n",
    "jobs.loc[229, 'final_salary'] = 113553.0\n",
    "jobs.loc[228, 'final_salary'] = 113553.0\n",
    "jobs.loc[790, 'final_salary'] = 100000.0\n",
    "jobs.loc[134, 'final_salary']= 166000.0\n"
   ]
  },
  {
   "cell_type": "code",
   "execution_count": null,
   "metadata": {},
   "outputs": [],
   "source": []
  },
  {
   "cell_type": "code",
   "execution_count": null,
   "metadata": {},
   "outputs": [],
   "source": []
  },
  {
   "cell_type": "markdown",
   "metadata": {},
   "source": [
    "Now that we've made feature columns, we have some remaining columns that won't be useful for our modelling.\n",
    "\n",
    "**Dropping the unneccessary columns**"
   ]
  },
  {
   "cell_type": "code",
   "execution_count": 23,
   "metadata": {},
   "outputs": [],
   "source": [
    "jobs.drop([\"salary1\",\"salary\",\"sal\",\"period1\",\"period2\",\"job_title\",\"job_salary\"],axis=1, inplace= True)"
   ]
  },
  {
   "cell_type": "markdown",
   "metadata": {},
   "source": [
    "**Renaming the columns in order to have same column names throughout my project.**"
   ]
  },
  {
   "cell_type": "code",
   "execution_count": 24,
   "metadata": {},
   "outputs": [],
   "source": [
    "jobs.rename(columns={\"job_name\":\"job_title\", \"final_salary\": \"job_salary\"}, inplace=True)"
   ]
  },
  {
   "cell_type": "markdown",
   "metadata": {},
   "source": [
    "**Job work type**"
   ]
  },
  {
   "cell_type": "code",
   "execution_count": 25,
   "metadata": {},
   "outputs": [
    {
     "data": {
      "text/plain": [
       "Full Time          595\n",
       "Contract/Temp      282\n",
       "Part Time            1\n",
       "Casual/Vacation      1\n",
       "Name: job_type, dtype: int64"
      ]
     },
     "execution_count": 25,
     "metadata": {},
     "output_type": "execute_result"
    }
   ],
   "source": [
    "jobs['job_type'].value_counts()"
   ]
  },
  {
   "cell_type": "code",
   "execution_count": 26,
   "metadata": {},
   "outputs": [],
   "source": [
    "jobs['job_type'] = jobs['job_type'].str.replace('Casual/Vacation','Contract/Temp')\n",
    "jobs['job_type'] = jobs['job_type'].str.replace('Part Time','Contract/Temp')"
   ]
  },
  {
   "cell_type": "code",
   "execution_count": 27,
   "metadata": {},
   "outputs": [
    {
     "data": {
      "text/html": [
       "<div>\n",
       "<style scoped>\n",
       "    .dataframe tbody tr th:only-of-type {\n",
       "        vertical-align: middle;\n",
       "    }\n",
       "\n",
       "    .dataframe tbody tr th {\n",
       "        vertical-align: top;\n",
       "    }\n",
       "\n",
       "    .dataframe thead th {\n",
       "        text-align: right;\n",
       "    }\n",
       "</style>\n",
       "<table border=\"1\" class=\"dataframe\">\n",
       "  <thead>\n",
       "    <tr style=\"text-align: right;\">\n",
       "      <th></th>\n",
       "      <th>job_area</th>\n",
       "      <th>job_classification</th>\n",
       "      <th>job_company</th>\n",
       "      <th>job_description</th>\n",
       "      <th>job_location</th>\n",
       "      <th>job_type</th>\n",
       "      <th>job_title</th>\n",
       "      <th>job_salary</th>\n",
       "    </tr>\n",
       "  </thead>\n",
       "  <tbody>\n",
       "    <tr>\n",
       "      <th>0</th>\n",
       "      <td>CBD and Inner Suburbs</td>\n",
       "      <td>Science and Technology</td>\n",
       "      <td>SEEK Limited</td>\n",
       "      <td>The Opportunity We're looking for an experienc...</td>\n",
       "      <td>Melbourne</td>\n",
       "      <td>Full Time</td>\n",
       "      <td>senior data scientist</td>\n",
       "      <td>NaN</td>\n",
       "    </tr>\n",
       "    <tr>\n",
       "      <th>1</th>\n",
       "      <td>Parramatta and Western Suburbs</td>\n",
       "      <td>Information and Communication Technology</td>\n",
       "      <td>ecareer employment services</td>\n",
       "      <td>Put Data to best useDesign &amp; Develop BI Soluti...</td>\n",
       "      <td>Sydney</td>\n",
       "      <td>Full Time</td>\n",
       "      <td>senior data scientist</td>\n",
       "      <td>135000.0</td>\n",
       "    </tr>\n",
       "  </tbody>\n",
       "</table>\n",
       "</div>"
      ],
      "text/plain": [
       "                         job_area                        job_classification  \\\n",
       "0           CBD and Inner Suburbs                    Science and Technology   \n",
       "1  Parramatta and Western Suburbs  Information and Communication Technology   \n",
       "\n",
       "                   job_company  \\\n",
       "0                 SEEK Limited   \n",
       "1  ecareer employment services   \n",
       "\n",
       "                                     job_description job_location   job_type  \\\n",
       "0  The Opportunity We're looking for an experienc...    Melbourne  Full Time   \n",
       "1  Put Data to best useDesign & Develop BI Soluti...       Sydney  Full Time   \n",
       "\n",
       "               job_title  job_salary  \n",
       "0  senior data scientist         NaN  \n",
       "1  senior data scientist    135000.0  "
      ]
     },
     "execution_count": 27,
     "metadata": {},
     "output_type": "execute_result"
    }
   ],
   "source": [
    "jobs.head(2)"
   ]
  },
  {
   "cell_type": "markdown",
   "metadata": {},
   "source": [
    "#### I binned all the jobs and identified 8 unique job title:"
   ]
  },
  {
   "cell_type": "code",
   "execution_count": 28,
   "metadata": {},
   "outputs": [
    {
     "data": {
      "text/plain": [
       "data analyst                    289\n",
       "data engineer                   221\n",
       "data scientist                  165\n",
       "business intelligence           113\n",
       "senior business intelligence     36\n",
       "senior data scientist            33\n",
       "junior data engineer              7\n",
       "junior data analyst               6\n",
       "senior research fellow            4\n",
       "junior business intelligence      3\n",
       "junior data scientist             2\n",
       "Name: job_title, dtype: int64"
      ]
     },
     "execution_count": 28,
     "metadata": {},
     "output_type": "execute_result"
    }
   ],
   "source": [
    "jobs['job_title'].value_counts()"
   ]
  },
  {
   "cell_type": "code",
   "execution_count": 29,
   "metadata": {},
   "outputs": [],
   "source": [
    "jobs[\"job_title\"]=jobs[\"job_title\"].str.replace('junior data scientist','data scientist')\n",
    "jobs[\"job_title\"]=jobs[\"job_title\"].str.replace('junior business intelligence','business intelligence')\n",
    "jobs[\"job_title\"]=jobs[\"job_title\"].str.replace('senior research fellow','data analyst')"
   ]
  },
  {
   "cell_type": "code",
   "execution_count": null,
   "metadata": {},
   "outputs": [],
   "source": []
  },
  {
   "cell_type": "code",
   "execution_count": 30,
   "metadata": {},
   "outputs": [
    {
     "data": {
      "text/html": [
       "<div>\n",
       "<style scoped>\n",
       "    .dataframe tbody tr th:only-of-type {\n",
       "        vertical-align: middle;\n",
       "    }\n",
       "\n",
       "    .dataframe tbody tr th {\n",
       "        vertical-align: top;\n",
       "    }\n",
       "\n",
       "    .dataframe thead th {\n",
       "        text-align: right;\n",
       "    }\n",
       "</style>\n",
       "<table border=\"1\" class=\"dataframe\">\n",
       "  <thead>\n",
       "    <tr style=\"text-align: right;\">\n",
       "      <th></th>\n",
       "      <th></th>\n",
       "      <th>job_salary</th>\n",
       "    </tr>\n",
       "    <tr>\n",
       "      <th>job_title</th>\n",
       "      <th>job_type</th>\n",
       "      <th></th>\n",
       "    </tr>\n",
       "  </thead>\n",
       "  <tbody>\n",
       "    <tr>\n",
       "      <th rowspan=\"2\" valign=\"top\">business intelligence</th>\n",
       "      <th>Contract/Temp</th>\n",
       "      <td>191100.0</td>\n",
       "    </tr>\n",
       "    <tr>\n",
       "      <th>Full Time</th>\n",
       "      <td>110000.0</td>\n",
       "    </tr>\n",
       "    <tr>\n",
       "      <th rowspan=\"2\" valign=\"top\">data analyst</th>\n",
       "      <th>Contract/Temp</th>\n",
       "      <td>123500.0</td>\n",
       "    </tr>\n",
       "    <tr>\n",
       "      <th>Full Time</th>\n",
       "      <td>113553.0</td>\n",
       "    </tr>\n",
       "    <tr>\n",
       "      <th rowspan=\"2\" valign=\"top\">data engineer</th>\n",
       "      <th>Contract/Temp</th>\n",
       "      <td>221000.0</td>\n",
       "    </tr>\n",
       "    <tr>\n",
       "      <th>Full Time</th>\n",
       "      <td>124999.5</td>\n",
       "    </tr>\n",
       "    <tr>\n",
       "      <th rowspan=\"2\" valign=\"top\">data scientist</th>\n",
       "      <th>Contract/Temp</th>\n",
       "      <td>135000.0</td>\n",
       "    </tr>\n",
       "    <tr>\n",
       "      <th>Full Time</th>\n",
       "      <td>140000.0</td>\n",
       "    </tr>\n",
       "    <tr>\n",
       "      <th rowspan=\"2\" valign=\"top\">junior data analyst</th>\n",
       "      <th>Contract/Temp</th>\n",
       "      <td>70200.0</td>\n",
       "    </tr>\n",
       "    <tr>\n",
       "      <th>Full Time</th>\n",
       "      <td>52500.0</td>\n",
       "    </tr>\n",
       "    <tr>\n",
       "      <th rowspan=\"2\" valign=\"top\">junior data engineer</th>\n",
       "      <th>Contract/Temp</th>\n",
       "      <td>NaN</td>\n",
       "    </tr>\n",
       "    <tr>\n",
       "      <th>Full Time</th>\n",
       "      <td>90000.0</td>\n",
       "    </tr>\n",
       "    <tr>\n",
       "      <th rowspan=\"2\" valign=\"top\">senior business intelligence</th>\n",
       "      <th>Contract/Temp</th>\n",
       "      <td>NaN</td>\n",
       "    </tr>\n",
       "    <tr>\n",
       "      <th>Full Time</th>\n",
       "      <td>135000.0</td>\n",
       "    </tr>\n",
       "    <tr>\n",
       "      <th rowspan=\"2\" valign=\"top\">senior data scientist</th>\n",
       "      <th>Contract/Temp</th>\n",
       "      <td>260000.0</td>\n",
       "    </tr>\n",
       "    <tr>\n",
       "      <th>Full Time</th>\n",
       "      <td>150000.0</td>\n",
       "    </tr>\n",
       "  </tbody>\n",
       "</table>\n",
       "</div>"
      ],
      "text/plain": [
       "                                            job_salary\n",
       "job_title                    job_type                 \n",
       "business intelligence        Contract/Temp    191100.0\n",
       "                             Full Time        110000.0\n",
       "data analyst                 Contract/Temp    123500.0\n",
       "                             Full Time        113553.0\n",
       "data engineer                Contract/Temp    221000.0\n",
       "                             Full Time        124999.5\n",
       "data scientist               Contract/Temp    135000.0\n",
       "                             Full Time        140000.0\n",
       "junior data analyst          Contract/Temp     70200.0\n",
       "                             Full Time         52500.0\n",
       "junior data engineer         Contract/Temp         NaN\n",
       "                             Full Time         90000.0\n",
       "senior business intelligence Contract/Temp         NaN\n",
       "                             Full Time        135000.0\n",
       "senior data scientist        Contract/Temp    260000.0\n",
       "                             Full Time        150000.0"
      ]
     },
     "execution_count": 30,
     "metadata": {},
     "output_type": "execute_result"
    }
   ],
   "source": [
    "pd.DataFrame(jobs.groupby(['job_title','job_type'])['job_salary'].median())"
   ]
  },
  {
   "cell_type": "code",
   "execution_count": 32,
   "metadata": {},
   "outputs": [
    {
     "data": {
      "text/html": [
       "<div>\n",
       "<style scoped>\n",
       "    .dataframe tbody tr th:only-of-type {\n",
       "        vertical-align: middle;\n",
       "    }\n",
       "\n",
       "    .dataframe tbody tr th {\n",
       "        vertical-align: top;\n",
       "    }\n",
       "\n",
       "    .dataframe thead th {\n",
       "        text-align: right;\n",
       "    }\n",
       "</style>\n",
       "<table border=\"1\" class=\"dataframe\">\n",
       "  <thead>\n",
       "    <tr style=\"text-align: right;\">\n",
       "      <th></th>\n",
       "      <th>job_area</th>\n",
       "      <th>job_classification</th>\n",
       "      <th>job_company</th>\n",
       "      <th>job_description</th>\n",
       "      <th>job_location</th>\n",
       "      <th>job_type</th>\n",
       "      <th>job_salary</th>\n",
       "    </tr>\n",
       "    <tr>\n",
       "      <th>job_title</th>\n",
       "      <th></th>\n",
       "      <th></th>\n",
       "      <th></th>\n",
       "      <th></th>\n",
       "      <th></th>\n",
       "      <th></th>\n",
       "      <th></th>\n",
       "    </tr>\n",
       "  </thead>\n",
       "  <tbody>\n",
       "    <tr>\n",
       "      <th>business intelligence</th>\n",
       "      <td>116</td>\n",
       "      <td>116</td>\n",
       "      <td>116</td>\n",
       "      <td>116</td>\n",
       "      <td>116</td>\n",
       "      <td>116</td>\n",
       "      <td>37</td>\n",
       "    </tr>\n",
       "    <tr>\n",
       "      <th>data analyst</th>\n",
       "      <td>293</td>\n",
       "      <td>293</td>\n",
       "      <td>293</td>\n",
       "      <td>293</td>\n",
       "      <td>293</td>\n",
       "      <td>293</td>\n",
       "      <td>72</td>\n",
       "    </tr>\n",
       "    <tr>\n",
       "      <th>data engineer</th>\n",
       "      <td>221</td>\n",
       "      <td>221</td>\n",
       "      <td>221</td>\n",
       "      <td>221</td>\n",
       "      <td>221</td>\n",
       "      <td>221</td>\n",
       "      <td>48</td>\n",
       "    </tr>\n",
       "    <tr>\n",
       "      <th>data scientist</th>\n",
       "      <td>167</td>\n",
       "      <td>167</td>\n",
       "      <td>167</td>\n",
       "      <td>167</td>\n",
       "      <td>167</td>\n",
       "      <td>167</td>\n",
       "      <td>42</td>\n",
       "    </tr>\n",
       "    <tr>\n",
       "      <th>junior data analyst</th>\n",
       "      <td>6</td>\n",
       "      <td>6</td>\n",
       "      <td>6</td>\n",
       "      <td>6</td>\n",
       "      <td>6</td>\n",
       "      <td>6</td>\n",
       "      <td>3</td>\n",
       "    </tr>\n",
       "    <tr>\n",
       "      <th>junior data engineer</th>\n",
       "      <td>7</td>\n",
       "      <td>7</td>\n",
       "      <td>7</td>\n",
       "      <td>7</td>\n",
       "      <td>7</td>\n",
       "      <td>7</td>\n",
       "      <td>1</td>\n",
       "    </tr>\n",
       "    <tr>\n",
       "      <th>senior business intelligence</th>\n",
       "      <td>36</td>\n",
       "      <td>36</td>\n",
       "      <td>36</td>\n",
       "      <td>36</td>\n",
       "      <td>36</td>\n",
       "      <td>36</td>\n",
       "      <td>10</td>\n",
       "    </tr>\n",
       "    <tr>\n",
       "      <th>senior data scientist</th>\n",
       "      <td>33</td>\n",
       "      <td>33</td>\n",
       "      <td>33</td>\n",
       "      <td>33</td>\n",
       "      <td>33</td>\n",
       "      <td>33</td>\n",
       "      <td>18</td>\n",
       "    </tr>\n",
       "  </tbody>\n",
       "</table>\n",
       "</div>"
      ],
      "text/plain": [
       "                              job_area  job_classification  job_company  \\\n",
       "job_title                                                                 \n",
       "business intelligence              116                 116          116   \n",
       "data analyst                       293                 293          293   \n",
       "data engineer                      221                 221          221   \n",
       "data scientist                     167                 167          167   \n",
       "junior data analyst                  6                   6            6   \n",
       "junior data engineer                 7                   7            7   \n",
       "senior business intelligence        36                  36           36   \n",
       "senior data scientist               33                  33           33   \n",
       "\n",
       "                              job_description  job_location  job_type  \\\n",
       "job_title                                                               \n",
       "business intelligence                     116           116       116   \n",
       "data analyst                              293           293       293   \n",
       "data engineer                             221           221       221   \n",
       "data scientist                            167           167       167   \n",
       "junior data analyst                         6             6         6   \n",
       "junior data engineer                        7             7         7   \n",
       "senior business intelligence               36            36        36   \n",
       "senior data scientist                      33            33        33   \n",
       "\n",
       "                              job_salary  \n",
       "job_title                                 \n",
       "business intelligence                 37  \n",
       "data analyst                          72  \n",
       "data engineer                         48  \n",
       "data scientist                        42  \n",
       "junior data analyst                    3  \n",
       "junior data engineer                   1  \n",
       "senior business intelligence          10  \n",
       "senior data scientist                 18  "
      ]
     },
     "execution_count": 32,
     "metadata": {},
     "output_type": "execute_result"
    }
   ],
   "source": [
    "pd.DataFrame(jobs.groupby(['job_title']).count())"
   ]
  },
  {
   "cell_type": "markdown",
   "metadata": {},
   "source": [
    "\n",
    "### Imputing the values by median values\n"
   ]
  },
  {
   "cell_type": "markdown",
   "metadata": {},
   "source": [
    ">**Business Intelligence with Full Time Role**"
   ]
  },
  {
   "cell_type": "code",
   "execution_count": 37,
   "metadata": {},
   "outputs": [
    {
     "data": {
      "text/plain": [
       "Int64Index([529, 544, 554, 566, 594, 598, 620, 678, 679, 683, 684, 687, 688,\n",
       "            689, 691, 692, 693, 694, 697, 698, 702, 704, 710, 711, 715, 716,\n",
       "            717, 719, 722, 723, 730, 738, 741, 744, 748, 749, 750, 764, 769,\n",
       "            770, 771, 776, 779, 780, 781, 782, 786, 787, 798, 803, 813, 819,\n",
       "            853, 863, 871],\n",
       "           dtype='int64')"
      ]
     },
     "execution_count": 37,
     "metadata": {},
     "output_type": "execute_result"
    }
   ],
   "source": [
    "jobs[(jobs.job_title == 'business intelligence') & (jobs.job_type == 'Full Time') & jobs.job_salary.isnull()].index"
   ]
  },
  {
   "cell_type": "code",
   "execution_count": 38,
   "metadata": {},
   "outputs": [],
   "source": [
    "index=[529, 544, 554, 566, 594, 598, 620, 678, 679, 683, 684, 687, 688,689, 691, 692, 693, 694,\n",
    "       697, 698, 702, 704, 710, 711, 715, 716,717, 719, 722, 723, 730, 738, 741, 744, 748, 749, \n",
    "       750, 764, 769,770, 771, 776, 779, 780, 781, 782, 786, 787, 798, 803, 813, 819,853, 863, 871]\n",
    "for val in index:\n",
    "    jobs.loc[val,\"job_salary\"] = 110000.0"
   ]
  },
  {
   "cell_type": "markdown",
   "metadata": {},
   "source": [
    ">**Business Intelligence with Contract/Temp Role**"
   ]
  },
  {
   "cell_type": "code",
   "execution_count": 39,
   "metadata": {},
   "outputs": [
    {
     "data": {
      "text/plain": [
       "Int64Index([ 20, 253, 310, 680, 681, 682, 696, 699, 700, 705, 709, 718, 726,\n",
       "            754, 755, 756, 761, 775, 791, 815, 816, 838, 844, 848],\n",
       "           dtype='int64')"
      ]
     },
     "execution_count": 39,
     "metadata": {},
     "output_type": "execute_result"
    }
   ],
   "source": [
    "jobs[(jobs.job_title == 'business intelligence') & (jobs.job_type == 'Contract/Temp') & jobs.job_salary.isnull()].index"
   ]
  },
  {
   "cell_type": "code",
   "execution_count": 40,
   "metadata": {},
   "outputs": [],
   "source": [
    "index=[20, 253, 310, 680, 681, 682, 696, 699, 700, 705, 709, 718, 726,754, 755, 756, \n",
    "       761, 775, 791, 815, 816, 838, 844, 848]\n",
    "for val in index:\n",
    "    jobs.loc[val,\"job_salary\"] = 191100.0"
   ]
  },
  {
   "cell_type": "code",
   "execution_count": null,
   "metadata": {},
   "outputs": [],
   "source": []
  },
  {
   "cell_type": "markdown",
   "metadata": {},
   "source": [
    ">**Data Analyst with Full Time Role**"
   ]
  },
  {
   "cell_type": "code",
   "execution_count": 41,
   "metadata": {},
   "outputs": [
    {
     "data": {
      "text/plain": [
       "Int64Index([], dtype='int64')"
      ]
     },
     "execution_count": 41,
     "metadata": {},
     "output_type": "execute_result"
    }
   ],
   "source": [
    "jobs[(jobs.job_title == 'data analyst') & (jobs.job_type == 'Full Time') & jobs.job_salary.isnull()].index[0:150]"
   ]
  },
  {
   "cell_type": "code",
   "execution_count": 42,
   "metadata": {},
   "outputs": [],
   "source": [
    "index=[17,23,  25,  26, 145, 149, 154, 155, 156, 158, 171, 173, 174, 177,\n",
    "       181, 185, 189, 194, 197, 202, 203, 205, 206, 212, 213, 233, 235,\n",
    "       237, 238, 244, 245, 248, 254, 258, 261, 262, 263, 264, 274, 276,\n",
    "       278, 280, 282, 283, 284, 285, 286, 288, 290, 292,300, 304, 306, 309,\n",
    "       311, 313, 316, 317, 318, 320, 322, 326, 331,334, 336, 341, 343, 344,\n",
    "       345, 346, 352, 356, 357, 360, 361, 363,365, 509, 530, 531, 540, 553, 557,\n",
    "       558, 561, 564, 569, 573, 591,611, 612, 617, 630, 650, 651, 653, 662, 665,\n",
    "       666, 677,759, 760, 763, 767, 799,800, 807, 814, 817, 818, 830, 845, 850,\n",
    "       851, 869, 876]\n",
    "for val in index:\n",
    "    jobs.loc[val,\"job_salary\"] = 113553.0"
   ]
  },
  {
   "cell_type": "code",
   "execution_count": null,
   "metadata": {},
   "outputs": [],
   "source": []
  },
  {
   "cell_type": "markdown",
   "metadata": {},
   "source": [
    ">**Data Analyst with Contract/Temp Role**"
   ]
  },
  {
   "cell_type": "code",
   "execution_count": 43,
   "metadata": {},
   "outputs": [
    {
     "data": {
      "text/plain": [
       "Int64Index([ 36,  40, 147, 148, 151, 152, 153, 161, 162, 164,\n",
       "            ...\n",
       "            746, 747, 783, 805, 806, 826, 846, 856, 860, 862],\n",
       "           dtype='int64', length=105)"
      ]
     },
     "execution_count": 43,
     "metadata": {},
     "output_type": "execute_result"
    }
   ],
   "source": [
    "jobs[(jobs.job_title == 'data analyst') & (jobs.job_type == 'Contract/Temp') & jobs.job_salary.isnull()].index[0:150]"
   ]
  },
  {
   "cell_type": "code",
   "execution_count": 44,
   "metadata": {},
   "outputs": [],
   "source": [
    "index=[36,40, 147, 148, 151, 152, 153, 161, 162, 164, 165, 167, 168, 172,\n",
    "            176, 178, 179, 186, 187, 188, 191, 192, 193, 198, 201, 207, 208,\n",
    "            210, 217, 218, 221, 222, 223, 224, 225, 226, 230, 231, 240, 242,\n",
    "            243, 250, 251, 255, 256, 259, 260, 265, 269, 270,271, 272, 273, 275,\n",
    "       277, 279, 281, 289, 291, 294, 296, 298, 303,\n",
    "            312, 314, 315, 319, 321, 323, 324, 325, 327, 328, 329, 330, 337,\n",
    "            338, 339, 340, 348, 349, 350, 351, 353, 354, 364, 367, 370, 518,\n",
    "            556, 608, 632, 647, 695, 745, 746, 747, 783, 805, 806,826, 846, 856, 860, 862]\n",
    "for val in index:\n",
    "    jobs.loc[val,\"job_salary\"] = 123500.0"
   ]
  },
  {
   "cell_type": "markdown",
   "metadata": {},
   "source": [
    ">**Data Engineer with Full Time Role**"
   ]
  },
  {
   "cell_type": "code",
   "execution_count": 45,
   "metadata": {},
   "outputs": [
    {
     "data": {
      "text/plain": [
       "Int64Index([ 29, 347, 366, 368, 371, 372, 373, 378, 379, 380,\n",
       "            ...\n",
       "            788, 804, 831, 852, 854, 857, 870, 872, 874, 878],\n",
       "           dtype='int64', length=123)"
      ]
     },
     "execution_count": 45,
     "metadata": {},
     "output_type": "execute_result"
    }
   ],
   "source": [
    "jobs[(jobs.job_title == 'data engineer') & (jobs.job_type == 'Full Time') & jobs.job_salary.isnull()].index[0:150]"
   ]
  },
  {
   "cell_type": "code",
   "execution_count": 48,
   "metadata": {},
   "outputs": [],
   "source": [
    "index=[29, 347, 366, 368, 371, 372, 373, 378, 379, 380, 382, 386, 387,\n",
    "            389, 390, 391, 392, 393, 394, 395, 396, 398, 400, 402, 403, 405,\n",
    "            408, 420, 422, 424, 432, 435, 436, 437, 443, 448, 453, 457, 458,\n",
    "            471, 476, 477, 479, 484, 485, 487, 488, 490, 491, 493,494, 495, 499, 503, 504, 505, 506, 508, 516, 520, 523, 526, 527,\n",
    "            533, 534, 535, 536, 537, 538, 539, 541, 542, 550, 562, 563, 565,\n",
    "            574, 575, 578, 579, 581, 582, 585, 595, 600, 601, 605, 606, 614,\n",
    "            615, 618, 621, 622, 623, 624, 627, 629, 634, 635, 640,643, 645, 648, 649, 654, 661, 663, 664, 668, 672, 675, 676, 777,\n",
    "            788, 804, 831, 852, 854, 857, 870, 872, 874, 878]\n",
    "for val in index:\n",
    "    jobs.loc[val,\"job_salary\"] = 221000.0"
   ]
  },
  {
   "cell_type": "markdown",
   "metadata": {},
   "source": [
    ">**Data Engineer with Contract/Temp Role**"
   ]
  },
  {
   "cell_type": "code",
   "execution_count": 49,
   "metadata": {},
   "outputs": [
    {
     "data": {
      "text/plain": [
       "Int64Index([ 27, 359, 381, 385, 401, 406, 421, 427, 428, 430, 434, 438, 441,\n",
       "            444, 445, 447, 449, 450, 451, 459, 461, 465, 466, 468, 472, 474,\n",
       "            481, 482, 483, 497, 507, 515, 559, 589, 609, 613, 619, 641, 644,\n",
       "            646, 659, 766, 773, 801, 822, 823, 836, 837, 864, 875],\n",
       "           dtype='int64')"
      ]
     },
     "execution_count": 49,
     "metadata": {},
     "output_type": "execute_result"
    }
   ],
   "source": [
    "jobs[(jobs.job_title == 'data engineer') & (jobs.job_type == 'Contract/Temp') & jobs.job_salary.isnull()].index"
   ]
  },
  {
   "cell_type": "code",
   "execution_count": 50,
   "metadata": {},
   "outputs": [],
   "source": [
    "index=[27, 359, 381, 385, 401, 406, 421, 427, 428, 430, 434, 438, 441,\n",
    "            444, 445, 447, 449, 450, 451, 459, 461, 465, 466, 468, 472, 474,\n",
    "            481, 482, 483, 497, 507, 515, 559, 589, 609, 613, 619, 641, 644,\n",
    "            646, 659, 766, 773, 801, 822, 823, 836, 837, 864, 875]\n",
    "for val in index:\n",
    "    jobs.loc[val,\"job_salary\"] = 124999.5"
   ]
  },
  {
   "cell_type": "markdown",
   "metadata": {},
   "source": [
    ">**Data Scientist with Full Time Role**"
   ]
  },
  {
   "cell_type": "code",
   "execution_count": 51,
   "metadata": {},
   "outputs": [
    {
     "data": {
      "text/plain": [
       "Int64Index([  2,   3,   4,   6,   7,  11,  15,  19,  22,  28,  30,  32,  33,\n",
       "             39,  41,  44,  45,  46,  47,  48,  51,  52,  54,  57,  59,  62,\n",
       "             63,  67,  71,  73,  74,  87,  89,  93,  94,  97, 102, 104, 106,\n",
       "            108, 109, 116, 117, 118, 120, 122, 124, 127, 131, 133, 138, 144,\n",
       "            397, 399, 404, 413, 416, 417, 426, 431, 433, 452, 456, 463, 469,\n",
       "            470, 496, 501, 502, 512, 513, 528, 543, 548, 555, 568, 576, 584,\n",
       "            587, 596, 597, 599, 604, 607, 631, 636, 655, 656, 658, 660, 669,\n",
       "            674, 865, 867, 877],\n",
       "           dtype='int64')"
      ]
     },
     "execution_count": 51,
     "metadata": {},
     "output_type": "execute_result"
    }
   ],
   "source": [
    "jobs[(jobs.job_title == 'data scientist') & (jobs.job_type == 'Full Time') & jobs.job_salary.isnull()].index"
   ]
  },
  {
   "cell_type": "code",
   "execution_count": 52,
   "metadata": {},
   "outputs": [],
   "source": [
    "index=[2,   3,   4,   6,   7,  11,  15,  19,  22,  28,  30,  32,  33,\n",
    "             39,  41,  44,  45,  46,  47,  48,  51,  52,  54,  57,  59,  62,\n",
    "             63,  67,  71,  73,  74,  87,  89,  93,  94,  97, 102, 104, 106,\n",
    "            108, 109, 116, 117, 118, 120, 122, 124, 127, 131, 133, 138, 144,\n",
    "            397, 399, 404, 413, 416, 417, 426, 431, 433, 452, 456, 463, 469,\n",
    "            470, 496, 501, 502, 512, 513, 528, 543, 548, 555, 568, 576, 584,\n",
    "            587, 596, 597, 599, 604, 607, 631, 636, 655, 656, 658, 660, 669,\n",
    "            674, 865, 867, 877]\n",
    "for val in index:\n",
    "    jobs.loc[val,\"job_salary\"] = 140000.0"
   ]
  },
  {
   "cell_type": "markdown",
   "metadata": {},
   "source": [
    ">**Data Scientist with Contract/Temp Role**"
   ]
  },
  {
   "cell_type": "code",
   "execution_count": 53,
   "metadata": {},
   "outputs": [
    {
     "data": {
      "text/plain": [
       "Int64Index([ 43,  50,  55,  61,  65,  66,  69,  72,  76,  81,  82,  83,  84,\n",
       "            101, 103, 105, 110, 113, 114, 115, 119, 135, 160, 446, 455, 522,\n",
       "            572, 638, 827, 828],\n",
       "           dtype='int64')"
      ]
     },
     "execution_count": 53,
     "metadata": {},
     "output_type": "execute_result"
    }
   ],
   "source": [
    "jobs[(jobs.job_title == 'data scientist') & (jobs.job_type == 'Contract/Temp') & jobs.job_salary.isnull()].index"
   ]
  },
  {
   "cell_type": "code",
   "execution_count": 54,
   "metadata": {},
   "outputs": [],
   "source": [
    "index=[43,  50,  55,  61,  65,  66,  69,  72,  76,  81,  82,  83,  84,\n",
    "            101, 103, 105, 110, 113, 114, 115, 119, 135, 160, 446, 455, 522,\n",
    "            572, 638, 827, 828]\n",
    "for val in index:\n",
    "    jobs.loc[val,\"job_salary\"] = 135000.0"
   ]
  },
  {
   "cell_type": "markdown",
   "metadata": {},
   "source": [
    ">**Junior Data Analyst with Full Time Role**"
   ]
  },
  {
   "cell_type": "code",
   "execution_count": 74,
   "metadata": {},
   "outputs": [
    {
     "data": {
      "text/plain": [
       "Int64Index([216, 241, 287], dtype='int64')"
      ]
     },
     "execution_count": 74,
     "metadata": {},
     "output_type": "execute_result"
    }
   ],
   "source": [
    "jobs[(jobs.job_title == 'junior data analyst') & (jobs.job_type == 'Full Time') & jobs.job_salary.isnull()].index"
   ]
  },
  {
   "cell_type": "code",
   "execution_count": 75,
   "metadata": {},
   "outputs": [],
   "source": [
    "index=[216, 241, 287]\n",
    "\n",
    "for val in index:\n",
    "    jobs.loc[val,\"job_salary\"] = 52500.0"
   ]
  },
  {
   "cell_type": "markdown",
   "metadata": {},
   "source": [
    ">**Junior Data Engineer with Full Time Role**"
   ]
  },
  {
   "cell_type": "code",
   "execution_count": 76,
   "metadata": {},
   "outputs": [
    {
     "data": {
      "text/plain": [
       "Int64Index([423, 467, 486, 551, 752], dtype='int64')"
      ]
     },
     "execution_count": 76,
     "metadata": {},
     "output_type": "execute_result"
    }
   ],
   "source": [
    "jobs[(jobs.job_title == 'junior data engineer') & (jobs.job_type == 'Full Time') & jobs.job_salary.isnull()].index"
   ]
  },
  {
   "cell_type": "code",
   "execution_count": 77,
   "metadata": {},
   "outputs": [],
   "source": [
    "index=[423, 467, 486, 551, 752]\n",
    "\n",
    "for val in index:\n",
    "    jobs.loc[val,\"job_salary\"] = 90000.0"
   ]
  },
  {
   "cell_type": "markdown",
   "metadata": {},
   "source": [
    ">**Junior Data Engineer with Contract/Temp Role**"
   ]
  },
  {
   "cell_type": "code",
   "execution_count": 78,
   "metadata": {},
   "outputs": [
    {
     "data": {
      "text/plain": [
       "Int64Index([842], dtype='int64')"
      ]
     },
     "execution_count": 78,
     "metadata": {},
     "output_type": "execute_result"
    }
   ],
   "source": [
    "jobs[(jobs.job_title == 'junior data engineer') & (jobs.job_type == 'Contract/Temp') & jobs.job_salary.isnull()].index"
   ]
  },
  {
   "cell_type": "code",
   "execution_count": 79,
   "metadata": {},
   "outputs": [],
   "source": [
    "index=[842]\n",
    "\n",
    "for val in index:\n",
    "    jobs.loc[val,\"job_salary\"] = 90000.0"
   ]
  },
  {
   "cell_type": "markdown",
   "metadata": {},
   "source": [
    ">**Senior Business Intelligence with Full Time Role**"
   ]
  },
  {
   "cell_type": "code",
   "execution_count": 80,
   "metadata": {},
   "outputs": [
    {
     "data": {
      "text/plain": [
       "Int64Index([524, 560, 593, 701, 707, 708, 712, 727, 729, 736, 737, 751, 757,\n",
       "            765, 793, 847, 859, 873],\n",
       "           dtype='int64')"
      ]
     },
     "execution_count": 80,
     "metadata": {},
     "output_type": "execute_result"
    }
   ],
   "source": [
    "jobs[(jobs.job_title == 'senior business intelligence') & (jobs.job_type == 'Full Time') & jobs.job_salary.isnull()].index"
   ]
  },
  {
   "cell_type": "code",
   "execution_count": 81,
   "metadata": {},
   "outputs": [],
   "source": [
    "index=[524, 560, 593, 701, 707, 708, 712, 727, 729, 736, 737, 751, 757,\n",
    "            765, 793, 847, 859, 873]\n",
    "\n",
    "for val in index:\n",
    "    jobs.loc[val,\"job_salary\"] = 135000.0"
   ]
  },
  {
   "cell_type": "markdown",
   "metadata": {},
   "source": [
    ">**Senior Business Intelligence with Contract/Temp Role**"
   ]
  },
  {
   "cell_type": "code",
   "execution_count": 82,
   "metadata": {},
   "outputs": [
    {
     "data": {
      "text/plain": [
       "Int64Index([266, 713, 714, 724, 728, 784, 809, 861], dtype='int64')"
      ]
     },
     "execution_count": 82,
     "metadata": {},
     "output_type": "execute_result"
    }
   ],
   "source": [
    "jobs[(jobs.job_title == 'senior business intelligence') & (jobs.job_type == 'Contract/Temp') & jobs.job_salary.isnull()].index"
   ]
  },
  {
   "cell_type": "code",
   "execution_count": 83,
   "metadata": {},
   "outputs": [],
   "source": [
    "index=[266, 713, 714, 724, 728, 784, 809, 861]\n",
    "\n",
    "for val in index:\n",
    "    jobs.loc[val,\"job_salary\"] = 135000.0"
   ]
  },
  {
   "cell_type": "markdown",
   "metadata": {},
   "source": [
    ">**Senior Data Scientist with Full Time Role**"
   ]
  },
  {
   "cell_type": "code",
   "execution_count": 84,
   "metadata": {},
   "outputs": [
    {
     "data": {
      "text/plain": [
       "Int64Index([0, 9, 10, 24, 53, 56, 64, 78, 85, 95, 126, 129, 130, 132], dtype='int64')"
      ]
     },
     "execution_count": 84,
     "metadata": {},
     "output_type": "execute_result"
    }
   ],
   "source": [
    "jobs[(jobs.job_title == 'senior data scientist') & (jobs.job_type == 'Full Time') & jobs.job_salary.isnull()].index"
   ]
  },
  {
   "cell_type": "code",
   "execution_count": 85,
   "metadata": {},
   "outputs": [],
   "source": [
    "index=[0, 9, 10, 24, 53, 56, 64, 78, 85, 95, 126, 129, 130, 132]\n",
    "\n",
    "for val in index:\n",
    "    jobs.loc[val,\"job_salary\"] = 150000.0"
   ]
  },
  {
   "cell_type": "markdown",
   "metadata": {},
   "source": [
    ">**Senior Data Scientist with Contract/Temp Role**"
   ]
  },
  {
   "cell_type": "code",
   "execution_count": 86,
   "metadata": {},
   "outputs": [
    {
     "data": {
      "text/plain": [
       "Int64Index([68], dtype='int64')"
      ]
     },
     "execution_count": 86,
     "metadata": {},
     "output_type": "execute_result"
    }
   ],
   "source": [
    "jobs[(jobs.job_title == 'senior data scientist') & (jobs.job_type == 'Contract/Temp') & jobs.job_salary.isnull()].index"
   ]
  },
  {
   "cell_type": "code",
   "execution_count": 87,
   "metadata": {},
   "outputs": [],
   "source": [
    "index=[68]\n",
    "\n",
    "for val in index:\n",
    "    jobs.loc[val,\"job_salary\"] = 260000.0"
   ]
  },
  {
   "cell_type": "markdown",
   "metadata": {},
   "source": [
    "All done with salaries!!!!"
   ]
  },
  {
   "cell_type": "code",
   "execution_count": 88,
   "metadata": {},
   "outputs": [
    {
     "data": {
      "text/plain": [
       "count       879.000000\n",
       "mean     143387.554039\n",
       "std       44223.403929\n",
       "min       39000.000000\n",
       "25%      113553.000000\n",
       "50%      125000.000000\n",
       "75%      150000.000000\n",
       "max      370500.000000\n",
       "Name: job_salary, dtype: float64"
      ]
     },
     "execution_count": 88,
     "metadata": {},
     "output_type": "execute_result"
    }
   ],
   "source": [
    "jobs.job_salary.describe()"
   ]
  },
  {
   "cell_type": "markdown",
   "metadata": {},
   "source": [
    "Having a look at the describe the min_salary : **\\$39000** per year thats very less and max_salary goes upto : **\\$710,000** far too high. I cross verified that I might have done some thing wrong but thats real."
   ]
  },
  {
   "cell_type": "markdown",
   "metadata": {},
   "source": [
    "**Categorizing the salaries in three bins low, medium and high**"
   ]
  },
  {
   "cell_type": "code",
   "execution_count": 89,
   "metadata": {},
   "outputs": [],
   "source": [
    "jobs['salary_cat']=np.nan"
   ]
  },
  {
   "cell_type": "code",
   "execution_count": 90,
   "metadata": {},
   "outputs": [],
   "source": [
    "jobs['salary_cat']=pd.cut(jobs.job_salary, [0,90000.00,125000.00,710000.00],labels=['low','medium','high'])"
   ]
  },
  {
   "cell_type": "code",
   "execution_count": 91,
   "metadata": {},
   "outputs": [
    {
     "data": {
      "text/plain": [
       "high      437\n",
       "medium    395\n",
       "low        47\n",
       "Name: salary_cat, dtype: int64"
      ]
     },
     "execution_count": 91,
     "metadata": {},
     "output_type": "execute_result"
    }
   ],
   "source": [
    "jobs.salary_cat.value_counts()"
   ]
  },
  {
   "cell_type": "markdown",
   "metadata": {},
   "source": [
    "**Dropping Duplicates if any**"
   ]
  },
  {
   "cell_type": "code",
   "execution_count": 92,
   "metadata": {},
   "outputs": [],
   "source": [
    "jobs=jobs.drop_duplicates(keep= 'first')"
   ]
  },
  {
   "cell_type": "code",
   "execution_count": 93,
   "metadata": {},
   "outputs": [
    {
     "data": {
      "text/html": [
       "<div>\n",
       "<style scoped>\n",
       "    .dataframe tbody tr th:only-of-type {\n",
       "        vertical-align: middle;\n",
       "    }\n",
       "\n",
       "    .dataframe tbody tr th {\n",
       "        vertical-align: top;\n",
       "    }\n",
       "\n",
       "    .dataframe thead th {\n",
       "        text-align: right;\n",
       "    }\n",
       "</style>\n",
       "<table border=\"1\" class=\"dataframe\">\n",
       "  <thead>\n",
       "    <tr style=\"text-align: right;\">\n",
       "      <th></th>\n",
       "      <th>job_area</th>\n",
       "      <th>job_classification</th>\n",
       "      <th>job_company</th>\n",
       "      <th>job_description</th>\n",
       "      <th>job_location</th>\n",
       "      <th>job_type</th>\n",
       "      <th>job_title</th>\n",
       "      <th>job_salary</th>\n",
       "      <th>salary_cat</th>\n",
       "    </tr>\n",
       "  </thead>\n",
       "  <tbody>\n",
       "    <tr>\n",
       "      <th>0</th>\n",
       "      <td>CBD and Inner Suburbs</td>\n",
       "      <td>Science and Technology</td>\n",
       "      <td>SEEK Limited</td>\n",
       "      <td>The Opportunity We're looking for an experienc...</td>\n",
       "      <td>Melbourne</td>\n",
       "      <td>Full Time</td>\n",
       "      <td>senior data scientist</td>\n",
       "      <td>150000.0</td>\n",
       "      <td>high</td>\n",
       "    </tr>\n",
       "    <tr>\n",
       "      <th>1</th>\n",
       "      <td>Parramatta and Western Suburbs</td>\n",
       "      <td>Information and Communication Technology</td>\n",
       "      <td>ecareer employment services</td>\n",
       "      <td>Put Data to best useDesign &amp; Develop BI Soluti...</td>\n",
       "      <td>Sydney</td>\n",
       "      <td>Full Time</td>\n",
       "      <td>senior data scientist</td>\n",
       "      <td>135000.0</td>\n",
       "      <td>high</td>\n",
       "    </tr>\n",
       "  </tbody>\n",
       "</table>\n",
       "</div>"
      ],
      "text/plain": [
       "                         job_area                        job_classification  \\\n",
       "0           CBD and Inner Suburbs                    Science and Technology   \n",
       "1  Parramatta and Western Suburbs  Information and Communication Technology   \n",
       "\n",
       "                   job_company  \\\n",
       "0                 SEEK Limited   \n",
       "1  ecareer employment services   \n",
       "\n",
       "                                     job_description job_location   job_type  \\\n",
       "0  The Opportunity We're looking for an experienc...    Melbourne  Full Time   \n",
       "1  Put Data to best useDesign & Develop BI Soluti...       Sydney  Full Time   \n",
       "\n",
       "               job_title  job_salary salary_cat  \n",
       "0  senior data scientist    150000.0       high  \n",
       "1  senior data scientist    135000.0       high  "
      ]
     },
     "execution_count": 93,
     "metadata": {},
     "output_type": "execute_result"
    }
   ],
   "source": [
    "jobs.head(2)"
   ]
  },
  {
   "cell_type": "code",
   "execution_count": 94,
   "metadata": {},
   "outputs": [],
   "source": [
    "#Handling outliers"
   ]
  },
  {
   "cell_type": "code",
   "execution_count": 95,
   "metadata": {},
   "outputs": [],
   "source": [
    "q1= jobs.quantile(0.25)\n",
    "q3= jobs.quantile(0.75)\n",
    "IQR= q3 - q1"
   ]
  },
  {
   "cell_type": "code",
   "execution_count": 96,
   "metadata": {},
   "outputs": [
    {
     "name": "stdout",
     "output_type": "stream",
     "text": [
      "job_salary    113553.0\n",
      "Name: 0.25, dtype: float64\n",
      "job_salary    150000.0\n",
      "Name: 0.75, dtype: float64\n",
      "job_salary    36447.0\n",
      "dtype: float64\n"
     ]
    }
   ],
   "source": [
    "print(q1)\n",
    "print(q3)\n",
    "print(IQR)"
   ]
  },
  {
   "cell_type": "code",
   "execution_count": null,
   "metadata": {},
   "outputs": [],
   "source": []
  },
  {
   "cell_type": "markdown",
   "metadata": {},
   "source": [
    "**Writing to a new CSV file for modelling**"
   ]
  },
  {
   "cell_type": "code",
   "execution_count": null,
   "metadata": {},
   "outputs": [],
   "source": []
  },
  {
   "cell_type": "code",
   "execution_count": 77,
   "metadata": {},
   "outputs": [],
   "source": [
    "jobs.to_csv(\"job_postings3.csv\")"
   ]
  },
  {
   "cell_type": "code",
   "execution_count": null,
   "metadata": {},
   "outputs": [],
   "source": []
  }
 ],
 "metadata": {
  "kernelspec": {
   "display_name": "Python 3",
   "language": "python",
   "name": "python3"
  },
  "language_info": {
   "codemirror_mode": {
    "name": "ipython",
    "version": 3
   },
   "file_extension": ".py",
   "mimetype": "text/x-python",
   "name": "python",
   "nbconvert_exporter": "python",
   "pygments_lexer": "ipython3",
   "version": "3.7.1"
  }
 },
 "nbformat": 4,
 "nbformat_minor": 2
}
