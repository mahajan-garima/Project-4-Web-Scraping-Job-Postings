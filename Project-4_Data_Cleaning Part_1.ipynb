{
 "cells": [
  {
   "cell_type": "markdown",
   "metadata": {},
   "source": [
    "# DATA CLEANING -PART (1)\n",
    "\n",
    "> Data cleaning is the most challenging part of any data science project and especially when you create you own data for analysis. It is more of creating a consistent data for analysis."
   ]
  },
  {
   "cell_type": "code",
   "execution_count": 1,
   "metadata": {},
   "outputs": [],
   "source": [
    "# libraries\n",
    "import pandas as pd\n",
    "import seaborn as sns\n",
    "import matplotlib.pyplot as plt\n",
    "import warnings\n",
    "import re\n",
    "\n",
    "warnings.filterwarnings('ignore')\n",
    "sns.set_style('darkgrid')"
   ]
  },
  {
   "cell_type": "markdown",
   "metadata": {},
   "source": [
    "#### Loading the Dataset"
   ]
  },
  {
   "cell_type": "code",
   "execution_count": 2,
   "metadata": {},
   "outputs": [],
   "source": [
    "jobs = pd.read_csv('job_postings.csv')"
   ]
  },
  {
   "cell_type": "markdown",
   "metadata": {},
   "source": [
    "#### Removing the duplicates and keep the first record."
   ]
  },
  {
   "cell_type": "code",
   "execution_count": 3,
   "metadata": {},
   "outputs": [],
   "source": [
    "jobs.drop_duplicates(subset=['job_area', 'job_classification', 'job_company','job_description',\n",
    "                             'job_location', 'job_salary','job_sub_classification', 'job_title', \n",
    "                             'job_type'], keep='first', inplace= True)"
   ]
  },
  {
   "cell_type": "markdown",
   "metadata": {},
   "source": [
    "#### Looking at the shape and head of the data."
   ]
  },
  {
   "cell_type": "code",
   "execution_count": 4,
   "metadata": {},
   "outputs": [
    {
     "data": {
      "text/plain": [
       "(1247, 10)"
      ]
     },
     "execution_count": 4,
     "metadata": {},
     "output_type": "execute_result"
    }
   ],
   "source": [
    "jobs.shape"
   ]
  },
  {
   "cell_type": "code",
   "execution_count": 5,
   "metadata": {},
   "outputs": [
    {
     "data": {
      "text/html": [
       "<div>\n",
       "<style scoped>\n",
       "    .dataframe tbody tr th:only-of-type {\n",
       "        vertical-align: middle;\n",
       "    }\n",
       "\n",
       "    .dataframe tbody tr th {\n",
       "        vertical-align: top;\n",
       "    }\n",
       "\n",
       "    .dataframe thead th {\n",
       "        text-align: right;\n",
       "    }\n",
       "</style>\n",
       "<table border=\"1\" class=\"dataframe\">\n",
       "  <thead>\n",
       "    <tr style=\"text-align: right;\">\n",
       "      <th></th>\n",
       "      <th>Unnamed: 0</th>\n",
       "      <th>job_area</th>\n",
       "      <th>job_classification</th>\n",
       "      <th>job_company</th>\n",
       "      <th>job_description</th>\n",
       "      <th>job_location</th>\n",
       "      <th>job_salary</th>\n",
       "      <th>job_sub_classification</th>\n",
       "      <th>job_title</th>\n",
       "      <th>job_type</th>\n",
       "    </tr>\n",
       "  </thead>\n",
       "  <tbody>\n",
       "    <tr>\n",
       "      <th>0</th>\n",
       "      <td>0</td>\n",
       "      <td>CBD &amp; Inner Suburbs</td>\n",
       "      <td>Science &amp; Technology</td>\n",
       "      <td>SEEK Limited</td>\n",
       "      <td>The Opportunity We're looking for an experienc...</td>\n",
       "      <td>Melbourne</td>\n",
       "      <td>Base + Super + Profit + Awesome Problems to So...</td>\n",
       "      <td>Mathematics, Statistics &amp; Information Sciences</td>\n",
       "      <td>Senior Data Scientist</td>\n",
       "      <td>Full Time</td>\n",
       "    </tr>\n",
       "    <tr>\n",
       "      <th>1</th>\n",
       "      <td>1</td>\n",
       "      <td>Parramatta &amp; Western Suburbs</td>\n",
       "      <td>Information &amp; Communication Technology</td>\n",
       "      <td>ecareer employment services</td>\n",
       "      <td>Put Data to best useDesign &amp; Develop BI Soluti...</td>\n",
       "      <td>Sydney</td>\n",
       "      <td>$130-140K Package</td>\n",
       "      <td>Developers/Programmers</td>\n",
       "      <td>Senior Data Engineer / BI Developer - MS BI Su...</td>\n",
       "      <td>Full Time</td>\n",
       "    </tr>\n",
       "  </tbody>\n",
       "</table>\n",
       "</div>"
      ],
      "text/plain": [
       "   Unnamed: 0                      job_area  \\\n",
       "0           0           CBD & Inner Suburbs   \n",
       "1           1  Parramatta & Western Suburbs   \n",
       "\n",
       "                       job_classification                  job_company  \\\n",
       "0                    Science & Technology                 SEEK Limited   \n",
       "1  Information & Communication Technology  ecareer employment services   \n",
       "\n",
       "                                     job_description job_location  \\\n",
       "0  The Opportunity We're looking for an experienc...    Melbourne   \n",
       "1  Put Data to best useDesign & Develop BI Soluti...       Sydney   \n",
       "\n",
       "                                          job_salary  \\\n",
       "0  Base + Super + Profit + Awesome Problems to So...   \n",
       "1                                  $130-140K Package   \n",
       "\n",
       "                           job_sub_classification  \\\n",
       "0  Mathematics, Statistics & Information Sciences   \n",
       "1                          Developers/Programmers   \n",
       "\n",
       "                                           job_title   job_type  \n",
       "0                              Senior Data Scientist  Full Time  \n",
       "1  Senior Data Engineer / BI Developer - MS BI Su...  Full Time  "
      ]
     },
     "execution_count": 5,
     "metadata": {},
     "output_type": "execute_result"
    }
   ],
   "source": [
    "jobs.head(2)"
   ]
  },
  {
   "cell_type": "markdown",
   "metadata": {},
   "source": [
    "I am getting a Column **\"Unnamed: 0\"** which I need to remove, and will also get rid of **\"job_sub_classification\"** as I already have the broader Classification to what the **job_title** belong."
   ]
  },
  {
   "cell_type": "markdown",
   "metadata": {},
   "source": [
    "#### Dropping unnecessary columns"
   ]
  },
  {
   "cell_type": "code",
   "execution_count": 6,
   "metadata": {},
   "outputs": [],
   "source": [
    "jobs= jobs.drop(['Unnamed: 0','job_sub_classification'],axis=1)"
   ]
  },
  {
   "cell_type": "markdown",
   "metadata": {},
   "source": [
    "#### Resetting the index "
   ]
  },
  {
   "cell_type": "code",
   "execution_count": 7,
   "metadata": {},
   "outputs": [],
   "source": [
    "jobs.reset_index(inplace=True,drop=True)"
   ]
  },
  {
   "cell_type": "markdown",
   "metadata": {},
   "source": [
    "> I used regular expression to clean various columns as per the need."
   ]
  },
  {
   "cell_type": "markdown",
   "metadata": {},
   "source": [
    "### Job Area"
   ]
  },
  {
   "cell_type": "code",
   "execution_count": 8,
   "metadata": {},
   "outputs": [],
   "source": [
    "def change1(text):\n",
    "    text = text.replace('&','and')\n",
    "    text = text.replace(',','')\n",
    "    text = text.replace('.','')\n",
    "    text = text.replace('$','')\n",
    "    return text"
   ]
  },
  {
   "cell_type": "code",
   "execution_count": 9,
   "metadata": {},
   "outputs": [],
   "source": [
    "jobs['job_area']=jobs['job_area'].apply(lambda x: change1(x))"
   ]
  },
  {
   "cell_type": "code",
   "execution_count": 10,
   "metadata": {},
   "outputs": [],
   "source": [
    "jobs[\"job_area\"] = jobs[\"job_area\"].str.replace('South West and M5 Corridor','South Western Suburbs')"
   ]
  },
  {
   "cell_type": "code",
   "execution_count": 11,
   "metadata": {},
   "outputs": [
    {
     "data": {
      "text/plain": [
       "0             CBD and Inner Suburbs\n",
       "1    Parramatta and Western Suburbs\n",
       "Name: job_area, dtype: object"
      ]
     },
     "execution_count": 11,
     "metadata": {},
     "output_type": "execute_result"
    }
   ],
   "source": [
    "jobs[\"job_area\"].head(2)"
   ]
  },
  {
   "cell_type": "markdown",
   "metadata": {},
   "source": [
    "### Job Classification"
   ]
  },
  {
   "cell_type": "code",
   "execution_count": 12,
   "metadata": {},
   "outputs": [],
   "source": [
    "jobs['job_classification']=jobs['job_classification'].apply(lambda x: change1(x))"
   ]
  },
  {
   "cell_type": "code",
   "execution_count": 13,
   "metadata": {},
   "outputs": [
    {
     "data": {
      "text/plain": [
       "0                      Science and Technology\n",
       "1    Information and Communication Technology\n",
       "Name: job_classification, dtype: object"
      ]
     },
     "execution_count": 13,
     "metadata": {},
     "output_type": "execute_result"
    }
   ],
   "source": [
    "jobs[\"job_classification\"].head(2)"
   ]
  },
  {
   "cell_type": "markdown",
   "metadata": {},
   "source": [
    "### Job Company"
   ]
  },
  {
   "cell_type": "code",
   "execution_count": 14,
   "metadata": {},
   "outputs": [],
   "source": [
    "jobs['job_company']=jobs['job_company'].apply(lambda x: change1(x))"
   ]
  },
  {
   "cell_type": "code",
   "execution_count": 15,
   "metadata": {},
   "outputs": [],
   "source": [
    "def company(text):\n",
    "    text = text.replace('+','')\n",
    "    text = text.replace('-','')\n",
    "    text = text.replace('Pty Ltd','')\n",
    "    text = text.replace('Pty Limited','')\n",
    "    return text"
   ]
  },
  {
   "cell_type": "code",
   "execution_count": 16,
   "metadata": {},
   "outputs": [],
   "source": [
    "jobs['job_company']=jobs['job_company'].apply(lambda x: company(x))"
   ]
  },
  {
   "cell_type": "code",
   "execution_count": 17,
   "metadata": {},
   "outputs": [],
   "source": [
    "jobs[\"job_company\"] = jobs[\"job_company\"].str.replace('Talent – Winner ‘Seek Large Recruitment Agency of the Year’ 3 consecutive years!','Talent')\n",
    "jobs[\"job_company\"] = jobs[\"job_company\"].str.replace('Michael Page Information Technology','MichaelPage')\n",
    "jobs[\"job_company\"] = jobs[\"job_company\"].str.replace('THE CAREER MEISTER','Career Meister')\n",
    "jobs[\"job_company\"] = jobs[\"job_company\"].str.replace('Sirius Technology Sydney part of Sirius People','Sirius Technology')"
   ]
  },
  {
   "cell_type": "code",
   "execution_count": 18,
   "metadata": {},
   "outputs": [
    {
     "data": {
      "text/plain": [
       "0                   SEEK Limited\n",
       "1    ecareer employment services\n",
       "Name: job_company, dtype: object"
      ]
     },
     "execution_count": 18,
     "metadata": {},
     "output_type": "execute_result"
    }
   ],
   "source": [
    "jobs[\"job_company\"].head(2)"
   ]
  },
  {
   "cell_type": "markdown",
   "metadata": {},
   "source": [
    "### Job Location"
   ]
  },
  {
   "cell_type": "markdown",
   "metadata": {},
   "source": [
    "I kept only six job location for analysis."
   ]
  },
  {
   "cell_type": "code",
   "execution_count": 19,
   "metadata": {},
   "outputs": [],
   "source": [
    "locations=[\"Sydney\",\"Melbourne\",\"Brisbane\",\"Perth\",\"ACT\",\"Adelaide\"]"
   ]
  },
  {
   "cell_type": "code",
   "execution_count": 20,
   "metadata": {},
   "outputs": [],
   "source": [
    "jobs= jobs[jobs.job_location.isin(locations)]"
   ]
  },
  {
   "cell_type": "code",
   "execution_count": 21,
   "metadata": {},
   "outputs": [
    {
     "data": {
      "text/plain": [
       "0    Melbourne\n",
       "1       Sydney\n",
       "Name: job_location, dtype: object"
      ]
     },
     "execution_count": 21,
     "metadata": {},
     "output_type": "execute_result"
    }
   ],
   "source": [
    "jobs[\"job_location\"].head(2)"
   ]
  },
  {
   "cell_type": "markdown",
   "metadata": {},
   "source": [
    "### Job Title"
   ]
  },
  {
   "cell_type": "markdown",
   "metadata": {},
   "source": [
    ">This column was the time consuming one because intially I had 786 unique job roles and I had to shrink them down to 15 for my project. Firstly, I created a simple function to fix **\"\\+\" , \"\\-\" , \"\\/\"**. Then I wrote few functions and used regular expression to check the combination of various patterns occuring in the column job_title. For every job role I serached I create a new column in the dataset (**jobs**)."
   ]
  },
  {
   "cell_type": "code",
   "execution_count": 22,
   "metadata": {},
   "outputs": [],
   "source": [
    "def title(text):\n",
    "    text = text.replace('+',' ')\n",
    "    text = text.replace('-',' ')\n",
    "    text = text.replace('/',' ')\n",
    "    text = text.replace('anayst','analyst')\n",
    "    return text"
   ]
  },
  {
   "cell_type": "code",
   "execution_count": 23,
   "metadata": {},
   "outputs": [],
   "source": [
    "jobs[\"job_title\"] = jobs[\"job_title\"].str.replace('BI','Business Intelligence')"
   ]
  },
  {
   "cell_type": "code",
   "execution_count": 24,
   "metadata": {},
   "outputs": [],
   "source": [
    "jobs['job_title']=jobs['job_title'].apply(lambda x: title(x))"
   ]
  },
  {
   "cell_type": "code",
   "execution_count": 25,
   "metadata": {},
   "outputs": [],
   "source": [
    "def data_sci(text):\n",
    "    text = text.lower()\n",
    "    pattern = re.compile('.*data\\sscien(ce|tist).*')\n",
    "    if re.match(pattern,text):\n",
    "        return (\"data scientist\")\n",
    "    else:\n",
    "        return None"
   ]
  },
  {
   "cell_type": "code",
   "execution_count": 26,
   "metadata": {},
   "outputs": [],
   "source": [
    "jobs['data_scientist'] = jobs['job_title'].map(lambda x: data_sci(x))"
   ]
  },
  {
   "cell_type": "code",
   "execution_count": 27,
   "metadata": {},
   "outputs": [],
   "source": [
    "def data_anyst(text):\n",
    "    text = text.lower()\n",
    "    pattern = re.compile('.*[data\\sanaly(st|tics)]?(analyst|analytics).*')\n",
    "    if re.match(pattern,text):\n",
    "        return (\"data analyst\")\n",
    "    else:\n",
    "        return None"
   ]
  },
  {
   "cell_type": "code",
   "execution_count": 28,
   "metadata": {},
   "outputs": [],
   "source": [
    "jobs['data_analyst'] = jobs['job_title'].map(lambda x: data_anyst(x))"
   ]
  },
  {
   "cell_type": "code",
   "execution_count": 29,
   "metadata": {},
   "outputs": [],
   "source": [
    "def data_engg(text):\n",
    "    text = text.lower()\n",
    "    pattern = re.compile('.*[data\\sengineer]?(engineer|developer).*')\n",
    "    if re.match(pattern,text):\n",
    "        return (\"data engineer\")\n",
    "    else:\n",
    "        return None"
   ]
  },
  {
   "cell_type": "code",
   "execution_count": 30,
   "metadata": {},
   "outputs": [],
   "source": [
    "jobs['data_engineer'] = jobs['job_title'].map(lambda x: data_engg(x))"
   ]
  },
  {
   "cell_type": "code",
   "execution_count": 31,
   "metadata": {},
   "outputs": [],
   "source": [
    "def machine_l(text):\n",
    "    text = text.lower()\n",
    "    pattern = re.compile('.*machine\\slearning.*')\n",
    "    if re.match(pattern,text):\n",
    "        return (\"machine learning\")\n",
    "    else:\n",
    "        return None"
   ]
  },
  {
   "cell_type": "code",
   "execution_count": 32,
   "metadata": {},
   "outputs": [],
   "source": [
    "jobs['machine learning'] = jobs['job_title'].map(lambda x: machine_l(x))"
   ]
  },
  {
   "cell_type": "code",
   "execution_count": 33,
   "metadata": {},
   "outputs": [],
   "source": [
    "def bus_int(text):\n",
    "    text = text.lower()\n",
    "    pattern = re.compile('.*business\\sintelligence.*')\n",
    "    if re.match(pattern,text):\n",
    "        return (\"business intelligence\")\n",
    "    else:\n",
    "        return None"
   ]
  },
  {
   "cell_type": "code",
   "execution_count": 34,
   "metadata": {},
   "outputs": [],
   "source": [
    "jobs['business_intelligence'] = jobs['job_title'].map(lambda x: bus_int(x))"
   ]
  },
  {
   "cell_type": "code",
   "execution_count": 35,
   "metadata": {},
   "outputs": [],
   "source": [
    "def bus_anyst(text):\n",
    "    text = text.lower()\n",
    "    pattern = re.compile('.*business\\sanaly(st|tics|sis).*')\n",
    "    if re.match(pattern,text):\n",
    "        return (\"business analyst\")\n",
    "    else:\n",
    "        return None"
   ]
  },
  {
   "cell_type": "code",
   "execution_count": 36,
   "metadata": {},
   "outputs": [],
   "source": [
    "jobs['business_analyst'] = jobs['job_title'].map(lambda x: bus_anyst(x))"
   ]
  },
  {
   "cell_type": "code",
   "execution_count": 37,
   "metadata": {},
   "outputs": [],
   "source": [
    "def research(text):\n",
    "    text = text.lower()\n",
    "    pattern = re.compile('.*[researc(h|er)]?(csiro).*')\n",
    "    if re.match(pattern,text):\n",
    "        return (\"research fellow\")\n",
    "    else:\n",
    "        return None"
   ]
  },
  {
   "cell_type": "code",
   "execution_count": 38,
   "metadata": {},
   "outputs": [],
   "source": [
    "jobs['research'] = jobs['job_title'].map(lambda x: research(x))"
   ]
  },
  {
   "cell_type": "code",
   "execution_count": 39,
   "metadata": {},
   "outputs": [],
   "source": [
    "def senior(text):\n",
    "    text = text.lower()\n",
    "    pattern = re.compile('.*(senior|lead|master|principal).*')\n",
    "    if re.match(pattern,text):\n",
    "        return (\"senior\")\n",
    "    else:\n",
    "        return None"
   ]
  },
  {
   "cell_type": "code",
   "execution_count": 40,
   "metadata": {},
   "outputs": [],
   "source": [
    "jobs['senior'] = jobs['job_title'].map(lambda x: senior(x))"
   ]
  },
  {
   "cell_type": "code",
   "execution_count": 41,
   "metadata": {},
   "outputs": [],
   "source": [
    "def junior(text):\n",
    "    text = text.lower()\n",
    "    pattern = re.compile('.*junior.*')\n",
    "    if re.match(pattern,text):\n",
    "        return (\"junior\")\n",
    "    else:\n",
    "        return None"
   ]
  },
  {
   "cell_type": "code",
   "execution_count": 42,
   "metadata": {},
   "outputs": [],
   "source": [
    "jobs['junior'] = jobs['job_title'].map(lambda x: junior(x))"
   ]
  },
  {
   "cell_type": "code",
   "execution_count": 43,
   "metadata": {},
   "outputs": [
    {
     "data": {
      "text/plain": [
       "Index(['job_area', 'job_classification', 'job_company', 'job_description',\n",
       "       'job_location', 'job_salary', 'job_title', 'job_type', 'data_scientist',\n",
       "       'data_analyst', 'data_engineer', 'machine learning',\n",
       "       'business_intelligence', 'business_analyst', 'research', 'senior',\n",
       "       'junior'],\n",
       "      dtype='object')"
      ]
     },
     "execution_count": 43,
     "metadata": {},
     "output_type": "execute_result"
    }
   ],
   "source": [
    "jobs.columns"
   ]
  },
  {
   "cell_type": "markdown",
   "metadata": {},
   "source": [
    "#### Combining all the columns into one :- \" job_name \""
   ]
  },
  {
   "cell_type": "code",
   "execution_count": 44,
   "metadata": {},
   "outputs": [],
   "source": [
    "jobs['job_name'] = jobs[['data_scientist','data_analyst','data_engineer', 'machine learning',\n",
    "                         'business_intelligence', 'business_analyst', 'research', \n",
    "                         'senior','junior']].apply(lambda x: ' '.join(filter(None,x)), axis=1)"
   ]
  },
  {
   "cell_type": "code",
   "execution_count": 45,
   "metadata": {},
   "outputs": [
    {
     "data": {
      "text/plain": [
       "data analyst                                                 263\n",
       "data engineer                                                208\n",
       "                                                             162\n",
       "data scientist                                                77\n",
       "data engineer senior                                          67\n",
       "data analyst senior                                           63\n",
       "senior                                                        54\n",
       "business intelligence                                         42\n",
       "data engineer business intelligence                           42\n",
       "data scientist senior                                         31\n",
       "data analyst business analyst                                 24\n",
       "business intelligence senior                                  24\n",
       "data analyst business intelligence                            22\n",
       "research fellow                                               12\n",
       "data engineer machine learning                                12\n",
       "data scientist data analyst                                   10\n",
       "machine learning                                               7\n",
       "data analyst business intelligence senior                      7\n",
       "data engineer business intelligence senior                     7\n",
       "data analyst junior                                            6\n",
       "data analyst business intelligence business analyst            6\n",
       "data engineer junior                                           6\n",
       "data scientist data engineer                                   5\n",
       "data engineer machine learning senior                          4\n",
       "research fellow senior                                         4\n",
       "data analyst data engineer                                     4\n",
       "data analyst business analyst senior                           3\n",
       "machine learning senior                                        3\n",
       "data scientist machine learning                                3\n",
       "data scientist business intelligence                           2\n",
       "data analyst machine learning                                  2\n",
       "data analyst data engineer business intelligence               2\n",
       "data engineer business intelligence junior                     2\n",
       "data scientist data engineer machine learning                  1\n",
       "junior                                                         1\n",
       "business analyst                                               1\n",
       "data analyst data engineer senior                              1\n",
       "data scientist data engineer business intelligence senior      1\n",
       "data analyst business intelligence junior                      1\n",
       "data scientist data analyst machine learning                   1\n",
       "data engineer senior junior                                    1\n",
       "data scientist junior                                          1\n",
       "data scientist machine learning senior                         1\n",
       "data scientist business intelligence junior                    1\n",
       "Name: job_name, dtype: int64"
      ]
     },
     "execution_count": 45,
     "metadata": {},
     "output_type": "execute_result"
    }
   ],
   "source": [
    "jobs['job_name'].value_counts()"
   ]
  },
  {
   "cell_type": "markdown",
   "metadata": {},
   "source": [
    "#### Fixing the job-titles that have multiple responsiblities"
   ]
  },
  {
   "cell_type": "code",
   "execution_count": 46,
   "metadata": {},
   "outputs": [],
   "source": [
    "jobs[\"job_name\"]=jobs[\"job_name\"].str.replace('data engineer business intelligence','business intelligence')"
   ]
  },
  {
   "cell_type": "code",
   "execution_count": 47,
   "metadata": {},
   "outputs": [],
   "source": [
    "jobs[\"job_name\"]=jobs[\"job_name\"].str.replace('data analyst business analyst','data analyst')"
   ]
  },
  {
   "cell_type": "code",
   "execution_count": 48,
   "metadata": {},
   "outputs": [],
   "source": [
    "jobs[\"job_name\"]=jobs[\"job_name\"].str.replace('data analyst business intelligence','business intelligence')"
   ]
  },
  {
   "cell_type": "code",
   "execution_count": 49,
   "metadata": {},
   "outputs": [],
   "source": [
    "jobs[\"job_name\"]=jobs[\"job_name\"].str.replace('data engineer machine learning','data engineer')"
   ]
  },
  {
   "cell_type": "code",
   "execution_count": 50,
   "metadata": {},
   "outputs": [],
   "source": [
    "jobs[\"job_name\"]=jobs[\"job_name\"].str.replace('data scientist data analyst','data scientist')"
   ]
  },
  {
   "cell_type": "code",
   "execution_count": 51,
   "metadata": {},
   "outputs": [],
   "source": [
    "jobs[\"job_name\"]=jobs[\"job_name\"].str.replace('data analyst business intelligence senior','senior data analyst')"
   ]
  },
  {
   "cell_type": "code",
   "execution_count": 52,
   "metadata": {},
   "outputs": [],
   "source": [
    "jobs[\"job_name\"]=jobs[\"job_name\"].str.replace('data engineer business intelligence senior','senior data engineer')"
   ]
  },
  {
   "cell_type": "code",
   "execution_count": 53,
   "metadata": {},
   "outputs": [],
   "source": [
    "jobs[\"job_name\"]=jobs[\"job_name\"].str.replace('data analyst business intelligence business analyst','business intelligence')"
   ]
  },
  {
   "cell_type": "code",
   "execution_count": 54,
   "metadata": {},
   "outputs": [],
   "source": [
    "jobs[\"job_name\"]=jobs[\"job_name\"].str.replace('data scientist data engineer','data scientist')"
   ]
  },
  {
   "cell_type": "code",
   "execution_count": 55,
   "metadata": {},
   "outputs": [],
   "source": [
    "jobs[\"job_name\"]=jobs[\"job_name\"].str.replace('business intelligence business analyst','business intelligence')"
   ]
  },
  {
   "cell_type": "code",
   "execution_count": 56,
   "metadata": {},
   "outputs": [],
   "source": [
    "jobs[\"job_name\"]=jobs[\"job_name\"].str.replace('data scientist machine learning','data scientist')"
   ]
  },
  {
   "cell_type": "code",
   "execution_count": 57,
   "metadata": {},
   "outputs": [],
   "source": [
    "jobs[\"job_name\"]=jobs[\"job_name\"].str.replace('data analyst data engineer','data engineer')"
   ]
  },
  {
   "cell_type": "code",
   "execution_count": 58,
   "metadata": {},
   "outputs": [],
   "source": [
    "jobs[\"job_name\"]=jobs[\"job_name\"].str.replace('data scientist business intelligence','data scientist')"
   ]
  },
  {
   "cell_type": "code",
   "execution_count": 59,
   "metadata": {},
   "outputs": [],
   "source": [
    "jobs[\"job_name\"]=jobs[\"job_name\"].str.replace('data analyst machine learning','data analyst')"
   ]
  },
  {
   "cell_type": "markdown",
   "metadata": {},
   "source": [
    "#### Fixing the Designation for junior roles."
   ]
  },
  {
   "cell_type": "code",
   "execution_count": 60,
   "metadata": {},
   "outputs": [],
   "source": [
    "jobs[\"job_name\"]=jobs[\"job_name\"].str.replace('data scientist junior','junior data scientist')"
   ]
  },
  {
   "cell_type": "code",
   "execution_count": 61,
   "metadata": {},
   "outputs": [],
   "source": [
    "jobs[\"job_name\"]=jobs[\"job_name\"].str.replace('data engineer junior','junior data engineer')"
   ]
  },
  {
   "cell_type": "code",
   "execution_count": 62,
   "metadata": {},
   "outputs": [],
   "source": [
    "jobs[\"job_name\"]=jobs[\"job_name\"].str.replace('data analyst junior','junior data analyst')"
   ]
  },
  {
   "cell_type": "code",
   "execution_count": 63,
   "metadata": {},
   "outputs": [],
   "source": [
    "jobs[\"job_name\"]=jobs[\"job_name\"].str.replace('machine learning','data analyst')"
   ]
  },
  {
   "cell_type": "code",
   "execution_count": 64,
   "metadata": {},
   "outputs": [],
   "source": [
    "jobs[\"job_name\"]=jobs[\"job_name\"].str.replace('data engineer senior junior','junior data engineer')"
   ]
  },
  {
   "cell_type": "code",
   "execution_count": 65,
   "metadata": {},
   "outputs": [],
   "source": [
    "jobs[\"job_name\"]=jobs[\"job_name\"].str.replace('business intelligence junior','junior business intelligence')"
   ]
  },
  {
   "cell_type": "markdown",
   "metadata": {},
   "source": [
    "#### Fixing the Designation for senior roles."
   ]
  },
  {
   "cell_type": "code",
   "execution_count": 66,
   "metadata": {},
   "outputs": [],
   "source": [
    "jobs[\"job_name\"]=jobs[\"job_name\"].str.replace('machine learning senior','senior data scientist')"
   ]
  },
  {
   "cell_type": "code",
   "execution_count": 67,
   "metadata": {},
   "outputs": [],
   "source": [
    "jobs[\"job_name\"]=jobs[\"job_name\"].str.replace('research fellow senior','senior research fellow')"
   ]
  },
  {
   "cell_type": "code",
   "execution_count": 68,
   "metadata": {},
   "outputs": [],
   "source": [
    "jobs[\"job_name\"]=jobs[\"job_name\"].str.replace('data analyst senior','senior data analyst')"
   ]
  },
  {
   "cell_type": "code",
   "execution_count": 69,
   "metadata": {},
   "outputs": [],
   "source": [
    "jobs[\"job_name\"]=jobs[\"job_name\"].str.replace('data engineer senior','data scientist')"
   ]
  },
  {
   "cell_type": "code",
   "execution_count": 70,
   "metadata": {},
   "outputs": [],
   "source": [
    "jobs[\"job_name\"]=jobs[\"job_name\"].str.replace('data scientist senior','senior data scientist')"
   ]
  },
  {
   "cell_type": "code",
   "execution_count": 71,
   "metadata": {},
   "outputs": [],
   "source": [
    "jobs[\"job_name\"]=jobs[\"job_name\"].str.replace('business intelligence senior','senior business intelligence')"
   ]
  },
  {
   "cell_type": "markdown",
   "metadata": {},
   "source": [
    "#### Keeping the 14 job_titles which I am interested in."
   ]
  },
  {
   "cell_type": "code",
   "execution_count": 72,
   "metadata": {},
   "outputs": [],
   "source": [
    "title =[\"data analyst\",\"data engineer\",\"data scientist\",\"business intelligence\",\"research fellow\"\n",
    "        \"senior data analyst\",\"senior data engineer\",\"senior data scientist\",\"senior business intelligence\",\n",
    "        \"senior research fellow\",\"junior data analyst\",\"junior data engineer\",\"junior data scientist\",\n",
    "        \"junior business intelligence\"]"
   ]
  },
  {
   "cell_type": "code",
   "execution_count": 73,
   "metadata": {},
   "outputs": [],
   "source": [
    "jobs= jobs[jobs.job_name.isin(title)]"
   ]
  },
  {
   "cell_type": "markdown",
   "metadata": {},
   "source": [
    "#### Looking at the shape of Dataset"
   ]
  },
  {
   "cell_type": "code",
   "execution_count": 74,
   "metadata": {},
   "outputs": [
    {
     "data": {
      "text/plain": [
       "(898, 18)"
      ]
     },
     "execution_count": 74,
     "metadata": {},
     "output_type": "execute_result"
    }
   ],
   "source": [
    "jobs.shape"
   ]
  },
  {
   "cell_type": "markdown",
   "metadata": {},
   "source": [
    "#### Finally getting rid of the redundant columns "
   ]
  },
  {
   "cell_type": "code",
   "execution_count": 75,
   "metadata": {},
   "outputs": [],
   "source": [
    "jobs.drop(['data_scientist','data_analyst', 'data_engineer', 'machine learning','business_intelligence', \n",
    "           'business_analyst', 'research','senior', 'junior'],axis=1,inplace=True)"
   ]
  },
  {
   "cell_type": "code",
   "execution_count": 76,
   "metadata": {},
   "outputs": [
    {
     "data": {
      "text/plain": [
       "(898, 9)"
      ]
     },
     "execution_count": 76,
     "metadata": {},
     "output_type": "execute_result"
    }
   ],
   "source": [
    "jobs.shape"
   ]
  },
  {
   "cell_type": "markdown",
   "metadata": {},
   "source": [
    "### Write it to a new csv file"
   ]
  },
  {
   "cell_type": "code",
   "execution_count": 79,
   "metadata": {},
   "outputs": [],
   "source": [
    "jobs.to_csv(\"job_postings2.csv\")"
   ]
  },
  {
   "cell_type": "code",
   "execution_count": null,
   "metadata": {},
   "outputs": [],
   "source": []
  },
  {
   "cell_type": "code",
   "execution_count": null,
   "metadata": {},
   "outputs": [],
   "source": []
  }
 ],
 "metadata": {
  "kernelspec": {
   "display_name": "Python 3",
   "language": "python",
   "name": "python3"
  },
  "language_info": {
   "codemirror_mode": {
    "name": "ipython",
    "version": 3
   },
   "file_extension": ".py",
   "mimetype": "text/x-python",
   "name": "python",
   "nbconvert_exporter": "python",
   "pygments_lexer": "ipython3",
   "version": "3.7.1"
  }
 },
 "nbformat": 4,
 "nbformat_minor": 2
}
