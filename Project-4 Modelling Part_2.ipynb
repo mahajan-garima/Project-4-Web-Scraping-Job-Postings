{
 "cells": [
  {
   "cell_type": "markdown",
   "metadata": {},
   "source": [
    "\n",
    "# NLP Modelling\n"
   ]
  },
  {
   "cell_type": "code",
   "execution_count": 1,
   "metadata": {},
   "outputs": [
    {
     "name": "stderr",
     "output_type": "stream",
     "text": [
      "/Users/garimamahajan/anaconda3/lib/python3.7/site-packages/socks.py:58: DeprecationWarning: Using or importing the ABCs from 'collections' instead of from 'collections.abc' is deprecated, and in 3.8 it will stop working\n",
      "  from collections import Callable\n",
      "/Users/garimamahajan/anaconda3/lib/python3.7/site-packages/scipy/sparse/sparsetools.py:21: DeprecationWarning: `scipy.sparse.sparsetools` is deprecated!\n",
      "scipy.sparse.sparsetools is a private module for scipy.sparse, and should not be used.\n",
      "  _deprecated()\n"
     ]
    }
   ],
   "source": [
    "# Libraries\n",
    "import pandas as pd\n",
    "import numpy as np\n",
    "import scipy as sp\n",
    "import re\n",
    "import string\n",
    "from sklearn.model_selection import train_test_split, cross_val_score\n",
    "from sklearn.feature_extraction.text import CountVectorizer, TfidfVectorizer\n",
    "from sklearn.naive_bayes import MultinomialNB\n",
    "from sklearn.linear_model import LogisticRegression\n",
    "from sklearn import metrics\n",
    "from textblob import TextBlob, Word\n",
    "from nltk.stem.snowball import SnowballStemmer\n",
    "from sklearn.feature_extraction import text\n",
    "from sklearn.metrics import confusion_matrix\n",
    "from sklearn.preprocessing import scale\n",
    "from sklearn.decomposition import LatentDirichletAllocation, NMF\n",
    "from sklearn.ensemble import RandomForestClassifier,BaggingClassifier\n",
    "import matplotlib.pyplot as plt\n",
    "from sklearn.model_selection import GridSearchCV\n",
    "from sklearn.tree import DecisionTreeClassifier\n",
    "import pyLDAvis\n",
    "import gensim\n",
    "import pyLDAvis.gensim \n",
    "from nltk.stem import WordNetLemmatizer\n",
    "\n",
    "\n",
    "import warnings\n",
    "warnings.filterwarnings('ignore')\n",
    "%matplotlib inline\n"
   ]
  },
  {
   "cell_type": "code",
   "execution_count": 2,
   "metadata": {},
   "outputs": [],
   "source": [
    "jobs = pd.read_csv('job_postings.3.csv')"
   ]
  },
  {
   "cell_type": "code",
   "execution_count": 3,
   "metadata": {},
   "outputs": [],
   "source": [
    "jobs= jobs.drop(['Unnamed: 0'],axis=1)"
   ]
  },
  {
   "cell_type": "code",
   "execution_count": 4,
   "metadata": {
    "scrolled": false
   },
   "outputs": [
    {
     "data": {
      "text/html": [
       "<div>\n",
       "<style scoped>\n",
       "    .dataframe tbody tr th:only-of-type {\n",
       "        vertical-align: middle;\n",
       "    }\n",
       "\n",
       "    .dataframe tbody tr th {\n",
       "        vertical-align: top;\n",
       "    }\n",
       "\n",
       "    .dataframe thead th {\n",
       "        text-align: right;\n",
       "    }\n",
       "</style>\n",
       "<table border=\"1\" class=\"dataframe\">\n",
       "  <thead>\n",
       "    <tr style=\"text-align: right;\">\n",
       "      <th></th>\n",
       "      <th>job_area</th>\n",
       "      <th>job_classification</th>\n",
       "      <th>job_company</th>\n",
       "      <th>job_description</th>\n",
       "      <th>job_location</th>\n",
       "      <th>job_type</th>\n",
       "      <th>job_title</th>\n",
       "      <th>job_salary</th>\n",
       "      <th>salary_cat</th>\n",
       "    </tr>\n",
       "  </thead>\n",
       "  <tbody>\n",
       "    <tr>\n",
       "      <th>0</th>\n",
       "      <td>CBD and Inner Suburbs</td>\n",
       "      <td>Science and Technology</td>\n",
       "      <td>SEEK Limited</td>\n",
       "      <td>The Opportunity We're looking for an experienc...</td>\n",
       "      <td>Melbourne</td>\n",
       "      <td>Full Time</td>\n",
       "      <td>senior data scientist</td>\n",
       "      <td>150000.0</td>\n",
       "      <td>high</td>\n",
       "    </tr>\n",
       "    <tr>\n",
       "      <th>1</th>\n",
       "      <td>Parramatta and Western Suburbs</td>\n",
       "      <td>Information and Communication Technology</td>\n",
       "      <td>ecareer employment services</td>\n",
       "      <td>Put Data to best useDesign &amp; Develop BI Soluti...</td>\n",
       "      <td>Sydney</td>\n",
       "      <td>Full Time</td>\n",
       "      <td>senior data scientist</td>\n",
       "      <td>135000.0</td>\n",
       "      <td>high</td>\n",
       "    </tr>\n",
       "    <tr>\n",
       "      <th>2</th>\n",
       "      <td>Ryde and Macquarie Park</td>\n",
       "      <td>Information and Communication Technology</td>\n",
       "      <td>Ricoh Australia</td>\n",
       "      <td>Our Company At Ricoh, we understand that being...</td>\n",
       "      <td>Sydney</td>\n",
       "      <td>Full Time</td>\n",
       "      <td>data scientist</td>\n",
       "      <td>140000.0</td>\n",
       "      <td>high</td>\n",
       "    </tr>\n",
       "    <tr>\n",
       "      <th>3</th>\n",
       "      <td>CBD and Inner Suburbs</td>\n",
       "      <td>Information and Communication Technology</td>\n",
       "      <td>sportsbetcomau</td>\n",
       "      <td>About us:\\nSportsbet is Australia’s leading on...</td>\n",
       "      <td>Melbourne</td>\n",
       "      <td>Full Time</td>\n",
       "      <td>data scientist</td>\n",
       "      <td>140000.0</td>\n",
       "      <td>high</td>\n",
       "    </tr>\n",
       "    <tr>\n",
       "      <th>4</th>\n",
       "      <td>CBD and Inner Suburbs</td>\n",
       "      <td>Consulting and Strategy</td>\n",
       "      <td>sportsbetcomau</td>\n",
       "      <td>About us:\\nSportsbet is Australia’s leading on...</td>\n",
       "      <td>Melbourne</td>\n",
       "      <td>Full Time</td>\n",
       "      <td>data scientist</td>\n",
       "      <td>140000.0</td>\n",
       "      <td>high</td>\n",
       "    </tr>\n",
       "  </tbody>\n",
       "</table>\n",
       "</div>"
      ],
      "text/plain": [
       "                         job_area                        job_classification  \\\n",
       "0           CBD and Inner Suburbs                    Science and Technology   \n",
       "1  Parramatta and Western Suburbs  Information and Communication Technology   \n",
       "2         Ryde and Macquarie Park  Information and Communication Technology   \n",
       "3           CBD and Inner Suburbs  Information and Communication Technology   \n",
       "4           CBD and Inner Suburbs                   Consulting and Strategy   \n",
       "\n",
       "                   job_company  \\\n",
       "0                 SEEK Limited   \n",
       "1  ecareer employment services   \n",
       "2             Ricoh Australia    \n",
       "3               sportsbetcomau   \n",
       "4               sportsbetcomau   \n",
       "\n",
       "                                     job_description job_location   job_type  \\\n",
       "0  The Opportunity We're looking for an experienc...    Melbourne  Full Time   \n",
       "1  Put Data to best useDesign & Develop BI Soluti...       Sydney  Full Time   \n",
       "2  Our Company At Ricoh, we understand that being...       Sydney  Full Time   \n",
       "3  About us:\\nSportsbet is Australia’s leading on...    Melbourne  Full Time   \n",
       "4  About us:\\nSportsbet is Australia’s leading on...    Melbourne  Full Time   \n",
       "\n",
       "               job_title  job_salary salary_cat  \n",
       "0  senior data scientist    150000.0       high  \n",
       "1  senior data scientist    135000.0       high  \n",
       "2         data scientist    140000.0       high  \n",
       "3         data scientist    140000.0       high  \n",
       "4         data scientist    140000.0       high  "
      ]
     },
     "execution_count": 4,
     "metadata": {},
     "output_type": "execute_result"
    }
   ],
   "source": [
    "jobs.head()"
   ]
  },
  {
   "cell_type": "markdown",
   "metadata": {},
   "source": [
    "### Cleaning the text data."
   ]
  },
  {
   "cell_type": "code",
   "execution_count": 5,
   "metadata": {},
   "outputs": [],
   "source": [
    "def remove_nums(text):\n",
    "    text= text.lower()\n",
    "    text =re.sub('[^\\s]*[0-9]+[^\\s]*', ' ', text)\n",
    "    text= re.sub('\\xa0', ' ', text)\n",
    "    text= re.sub('\\n', ' ', text)\n",
    "    text = re.sub('–',' ',text)\n",
    "    text=re.sub(\"([^\\x00-\\x7F])+\",\" \",text)\n",
    "    text= re.sub(r'[%s]'% re.escape(string.punctuation), ' ', text)\n",
    "\n",
    "    return text"
   ]
  },
  {
   "cell_type": "code",
   "execution_count": 6,
   "metadata": {},
   "outputs": [],
   "source": [
    "jobs['job_description'] = jobs['job_description'].map(remove_nums)"
   ]
  },
  {
   "cell_type": "markdown",
   "metadata": {},
   "source": [
    "### Stop Words"
   ]
  },
  {
   "cell_type": "code",
   "execution_count": 7,
   "metadata": {},
   "outputs": [],
   "source": [
    "list_of_stop_words = ['data','perform','abilities','current','responsibilties','vision','department',\n",
    "'migration','world','minimum','maximum','able','follow','month','year','day','issue','meet','resume','package',\n",
    "'think','make','global','policy','professional','expertise','right','candidate','react','consult','platform',\n",
    "'requirements','role','opportunity','undertake','meet','selection','available','description','salary','latest',\n",
    "'growth','recruitment','analyticts','scientist','love','hand','bi','business','sales','analyst',\"academics\",\n",
    "'aboriginal','ability','aaron','accelerate','accept','staff','sales','government','transport', 'issue','jll',\n",
    "'future','consult','react','intelligence','intern', 'sciencerecruit','rapidly','growth','world','architecture',\n",
    "'financial','platform','consult','start','react','infrastructure','start','react','practice','want','skills',\n",
    "'interests','frameworks','sydney','brisbane','perth','melbourne','automate','problems','functional','functional','warehouse',\n",
    "'consultant',\"experimentation\", 'bigger', 'enjoy' ,'code','bachelors', 'lending','teachers','maintained','society',\n",
    "'workbench', 'jira' ,'working' ,'enjoys' ,'techniques' ,'difference' ,'lunch', 'qlikview', 'webpage' ,'team',\n",
    "'spa','experimentation','size' ,'analytically', 'reporter','analysing','teachers','manpowergroup','workbench', \n",
    "'working', 'known', 'stressful', 'promotes','supplier' ,'solid','ingestion','inspiring','stack','teams', 'applied',\n",
    "'cycles','unless' ,'acu', 'requiring', 'warehousing', 'supplier','performed', 'strong' ,'planning' ,'efficiency',\n",
    "'strives', 'detailed' ,'cd' ,'valuing', 'troubleshoot','requiring' ,'aimed' ,'lending' ,'adelaide' ,'maintained',\n",
    "'integral' ,'efficiency' ,'unless', 'conduit' ,'audience' ,'areyou','asap' ,'society' ,'idam' ,'sss', 'caring',\n",
    "'incomplete' ,'authoring' ,'fair',\"minerals\",'spread', 'backed','interaction' ,'evidence', 'utilise','diagnostic',\n",
    "'difference', 'david' ,'warehousing','detailed' ,'reportingidentify' ,'date' , 'nanjing' ,'diagnose',\n",
    "'capturing', 'club', 'prioritisation', 'competitive' ,'hfc', 'lester','motivated', 'bonus','inspired','spectrum',\n",
    "'seven', 'evaluation' ,'epic', 'performance' ,'services' ,'office' ,'finite', 'contribute','host', 'frontend',\n",
    "'alteryx' 'contacted' 'lockheed' 'using' 'workbench' 'campuses' 'round' 'rac' 'nix' 'appropriately' 'engine',\n",
    "'metric' ,'promoting',  'beverage' ,'energetic', 'talenza' ,'venues' ,'recognised', 'integrating', 'billigence', \n",
    "'analytically' ,'directors', 'grow', 'breakdown' ,'inspiring' ,'discriminate', 'compensation' ,'graduate',\n",
    "'extension' ,'wider', 'route', 'citizen' ,'buying' ,'larger', 'mentor','pharmaceutical','iaas',\n",
    "'exploring' ,'participation', 'breakdown' ,'week' ,'hearing' ,'www' ,'spans', 'look' ,'sacrificing' ,'guidelines',\n",
    "                      \n",
    "'marketing', 'arrangements', 'growing', 'engine', 'pick' ,'anticipate' ,'dpe' ,'regression', 'leave', 'spaces',\n",
    "'tertiary', 'society' , 'moving','goal', 'planning' ,'athena','expanding', 'solentive', 'plan' ,\n",
    "'specialisations', 'engine' ,'testable' ,'uses' ,'sector', 'interaction' ,'jenkinbeattie', 'acceptance',\n",
    "'experience', 'analytics' ,'reporting','work', 'analysis','solutions', 'key', 'project' ,'support', \n",
    "'technical' ,'development', 'information', 'insights', 'stakeholders', 'apply', 'customer', 'knowledge', 'complex',\n",
    "'learning', 'science', 'experience', 'work','looking' ,'developer','product', 'development','engineer', 'senior',\n",
    "'research', 'aiml', 'learning' ,'institute' ,'edu' ,'university', 'computer','attractive', 'area','artificial' \n",
    "'ian', 'software','career', 'programs' ,'including' ,'australia' ,'facilities', 'lockheed', 'martin',\n",
    "'university' ,'research', 'position', 'support' ,'mission', 'student', 'students','design','catholic', 'valued', \n",
    "'applications', 'opsm' ,'level' ,'pa' ,'strategic' ,'trobe' ,'staging', 'response', 'criteria',\n",
    "'server', 'using' ,'developer' ,'reports', 'development', 'dashboards' ,'design', 'develop', 'cubes', \n",
    "'dimensional','experience' ,'engineering', 'building', 'etl' ,'build' ,'systems', 'processing','capgemini', \n",
    "'clients', 'prior' ,'companies' ,'helps', 'modesty', 'boldness', 'insight', 'spirit', 'ethisphere', 'entitlements' ,'people','ocean' ,'continuance', 'honesty','freedom', 'shopping','rewards',\n",
    "'ethical','ranked','consultants', 'consulting', 'servian', 'curious' ,'variety' ,'technologists' ,'alongside',\n",
    "'learning', 'structured' ,'firm', 'eager','sharing', 'technologies' ,'leadership' , 'analytics', \n",
    "'development' ,'sociable','large' ,'having', 'algorithms' ,'contract' ,'client','physically', 'regardedprevious',  \n",
    "'algorithmsexperience', 'press', 'modelsstrong' ,'construct', 'stringent', 'company', 'constructing',\n",
    "'initially', 'compiling', 'highlight','insurance', 'analytics' ,'greenstone', 'digital', 'brands',\n",
    "'communicating' ,'discipline', 'white', 'bustle','labelled','choosi' ,'exposure', 'pet', 'guardian' ,'credible',\n",
    "                      'hustle','junior','ll','emr','big','management','health','nsw','dw','machine','models','big',\n",
    "                      'ai'\n",
    "\n",
    "]"
   ]
  },
  {
   "cell_type": "code",
   "execution_count": null,
   "metadata": {},
   "outputs": [],
   "source": [
    "\n",
    " \n",
    "\n"
   ]
  },
  {
   "cell_type": "code",
   "execution_count": 8,
   "metadata": {},
   "outputs": [],
   "source": [
    "stop_w=list(text.ENGLISH_STOP_WORDS)\n",
    "custom_list = stop_w + (list_of_stop_words)"
   ]
  },
  {
   "cell_type": "markdown",
   "metadata": {},
   "source": [
    "### Baseline "
   ]
  },
  {
   "cell_type": "code",
   "execution_count": 9,
   "metadata": {},
   "outputs": [
    {
     "data": {
      "text/plain": [
       "data analyst                    33.485714\n",
       "data engineer                   25.257143\n",
       "data scientist                  18.971429\n",
       "business intelligence           13.257143\n",
       "senior business intelligence     4.000000\n",
       "senior data scientist            3.542857\n",
       "junior data engineer             0.800000\n",
       "junior data analyst              0.685714\n",
       "Name: job_title, dtype: float64"
      ]
     },
     "execution_count": 9,
     "metadata": {},
     "output_type": "execute_result"
    }
   ],
   "source": [
    "jobs['job_title'].value_counts()/len(jobs['job_title'])*100"
   ]
  },
  {
   "cell_type": "markdown",
   "metadata": {},
   "source": [
    "### Splitting the X and y Variable"
   ]
  },
  {
   "cell_type": "code",
   "execution_count": 10,
   "metadata": {},
   "outputs": [],
   "source": [
    "X= jobs.job_description\n",
    "y= jobs.job_title"
   ]
  },
  {
   "cell_type": "code",
   "execution_count": 11,
   "metadata": {},
   "outputs": [],
   "source": [
    "X_train, X_test, y_train, y_test = train_test_split(X, y, random_state=42)"
   ]
  },
  {
   "cell_type": "markdown",
   "metadata": {},
   "source": [
    "\n",
    "> ### CountVectorizer "
   ]
  },
  {
   "cell_type": "code",
   "execution_count": 12,
   "metadata": {},
   "outputs": [],
   "source": [
    "def lemm_text(text):\n",
    "    text_blob = TextBlob(text)\n",
    "    lemmetized_text = [word.lemmatize() for word in text_blob.words]\n",
    "    return lemmetized_text"
   ]
  },
  {
   "cell_type": "code",
   "execution_count": 13,
   "metadata": {},
   "outputs": [],
   "source": [
    "#fitting the X-variable\n",
    "cv= CountVectorizer(stop_words=custom_list,max_features=4000, min_df=0.005,analyzer=lemm_text).fit(X_train)"
   ]
  },
  {
   "cell_type": "code",
   "execution_count": 14,
   "metadata": {},
   "outputs": [],
   "source": [
    "# transforming the X-train and X-test\n",
    "X_train_cv = cv.transform(X_train)\n",
    "X_test_cv = cv.transform(X_test)"
   ]
  },
  {
   "cell_type": "markdown",
   "metadata": {},
   "source": [
    "**Multinomial Naive Bayes**"
   ]
  },
  {
   "cell_type": "code",
   "execution_count": 15,
   "metadata": {},
   "outputs": [
    {
     "data": {
      "text/plain": [
       "MultinomialNB(alpha=1.0, class_prior=None, fit_prior=True)"
      ]
     },
     "execution_count": 15,
     "metadata": {},
     "output_type": "execute_result"
    }
   ],
   "source": [
    "nb = MultinomialNB()\n",
    "nb.fit(X_train_cv, y_train)"
   ]
  },
  {
   "cell_type": "code",
   "execution_count": 16,
   "metadata": {},
   "outputs": [],
   "source": [
    "y_pred = nb.predict(X_test_cv)"
   ]
  },
  {
   "cell_type": "code",
   "execution_count": 17,
   "metadata": {},
   "outputs": [],
   "source": [
    "score1=nb.score(X_test_cv, y_test)"
   ]
  },
  {
   "cell_type": "code",
   "execution_count": 18,
   "metadata": {},
   "outputs": [
    {
     "name": "stdout",
     "output_type": "stream",
     "text": [
      "accuracy score with MultinomialNB:  0.639\n"
     ]
    }
   ],
   "source": [
    "print('accuracy score with MultinomialNB: ',round(score1,3))"
   ]
  },
  {
   "cell_type": "code",
   "execution_count": null,
   "metadata": {},
   "outputs": [],
   "source": []
  },
  {
   "cell_type": "markdown",
   "metadata": {},
   "source": [
    "**Logistic regression**"
   ]
  },
  {
   "cell_type": "code",
   "execution_count": 19,
   "metadata": {},
   "outputs": [],
   "source": [
    "lr= LogisticRegression(solver='newton-cg', C= 6,penalty='l2')"
   ]
  },
  {
   "cell_type": "code",
   "execution_count": 20,
   "metadata": {},
   "outputs": [
    {
     "data": {
      "text/plain": [
       "LogisticRegression(C=6, class_weight=None, dual=False, fit_intercept=True,\n",
       "          intercept_scaling=1, max_iter=100, multi_class='warn',\n",
       "          n_jobs=None, penalty='l2', random_state=None, solver='newton-cg',\n",
       "          tol=0.0001, verbose=0, warm_start=False)"
      ]
     },
     "execution_count": 20,
     "metadata": {},
     "output_type": "execute_result"
    }
   ],
   "source": [
    "lr.fit(X_train_cv,y_train)"
   ]
  },
  {
   "cell_type": "code",
   "execution_count": 21,
   "metadata": {},
   "outputs": [],
   "source": [
    "y_pred= lr.predict(X_test_cv)"
   ]
  },
  {
   "cell_type": "code",
   "execution_count": 22,
   "metadata": {},
   "outputs": [],
   "source": [
    "score2=lr.score(X_test_cv,y_test)"
   ]
  },
  {
   "cell_type": "code",
   "execution_count": 23,
   "metadata": {},
   "outputs": [
    {
     "name": "stdout",
     "output_type": "stream",
     "text": [
      "accuracy score with Logistic Regression:  0.63\n"
     ]
    }
   ],
   "source": [
    "print('accuracy score with Logistic Regression: ',round(score2,3))"
   ]
  },
  {
   "cell_type": "markdown",
   "metadata": {},
   "source": [
    "**Decesion Tree Classifier**"
   ]
  },
  {
   "cell_type": "code",
   "execution_count": 24,
   "metadata": {},
   "outputs": [
    {
     "name": "stdout",
     "output_type": "stream",
     "text": [
      "{'max_depth': 4, 'max_features': 500, 'max_leaf_nodes': 6, 'min_samples_split': 15}\n"
     ]
    }
   ],
   "source": [
    "params = {'max_depth':[3,4,5,6],\n",
    "         'max_leaf_nodes':[2,4,6],\n",
    "         'min_samples_split':[2,3,4,5,10,15,25],\n",
    "         'max_features':[5,10,50,100,500]}\n",
    "\n",
    "dtc_gs = GridSearchCV(DecisionTreeClassifier(), params, cv=5)\n",
    "dtc_gs.fit(X_train_cv, y_train)\n",
    "dtc = dtc_gs.best_estimator_\n",
    "print(dtc_gs.best_params_)"
   ]
  },
  {
   "cell_type": "code",
   "execution_count": 25,
   "metadata": {},
   "outputs": [],
   "source": [
    "dtc_pred = dtc.predict(X_test_cv)\n",
    "score3 = dtc.score(X_test_cv, y_test)"
   ]
  },
  {
   "cell_type": "code",
   "execution_count": 26,
   "metadata": {},
   "outputs": [
    {
     "name": "stdout",
     "output_type": "stream",
     "text": [
      "accuracy score with Decesion Tree:  0.566\n"
     ]
    }
   ],
   "source": [
    "print('accuracy score with Decesion Tree: ',round(score3,3))"
   ]
  },
  {
   "cell_type": "markdown",
   "metadata": {},
   "source": [
    "**Random Forest Tree Classifier**"
   ]
  },
  {
   "cell_type": "code",
   "execution_count": 27,
   "metadata": {},
   "outputs": [
    {
     "name": "stdout",
     "output_type": "stream",
     "text": [
      "{'max_features': 500, 'min_samples_leaf': 1, 'min_samples_split': 2, 'n_estimators': 30}\n"
     ]
    }
   ],
   "source": [
    "rf_params = {'n_estimators': [5,10,15,30,50],\n",
    "            'max_features':[5,20,50,100,250,500],\n",
    "            'min_samples_leaf':[1,5,10],\n",
    "            'min_samples_split':[2,5,20,25]}\n",
    "rf_gs = GridSearchCV(RandomForestClassifier(), rf_params, cv=5)\n",
    "rf_gs.fit(X_train_cv, y_train)\n",
    "rf = rf_gs.best_estimator_\n",
    "print(rf_gs.best_params_)"
   ]
  },
  {
   "cell_type": "code",
   "execution_count": 28,
   "metadata": {},
   "outputs": [],
   "source": [
    "rf_pred = rf.predict(X_test_cv)\n",
    "score4 = rf.score(X_test_cv, y_test)"
   ]
  },
  {
   "cell_type": "code",
   "execution_count": 29,
   "metadata": {},
   "outputs": [
    {
     "name": "stdout",
     "output_type": "stream",
     "text": [
      "accuracy score with Random Forest Tree:  0.667\n"
     ]
    }
   ],
   "source": [
    "print('accuracy score with Random Forest Tree: ',round(score4,3))"
   ]
  },
  {
   "cell_type": "code",
   "execution_count": 30,
   "metadata": {},
   "outputs": [],
   "source": [
    "#Using Countvectorizer\n",
    "models = ['Multinomial NB','LogisticRegression','RandomForest']\n",
    "accuracy = [score1, score2, score4]\n",
    "summary = pd.DataFrame({'Model':models, 'Accuracy':accuracy})\n",
    "summary = pd.DataFrame(summary.set_index('Model'))"
   ]
  },
  {
   "cell_type": "code",
   "execution_count": 31,
   "metadata": {},
   "outputs": [
    {
     "data": {
      "text/html": [
       "<div>\n",
       "<style scoped>\n",
       "    .dataframe tbody tr th:only-of-type {\n",
       "        vertical-align: middle;\n",
       "    }\n",
       "\n",
       "    .dataframe tbody tr th {\n",
       "        vertical-align: top;\n",
       "    }\n",
       "\n",
       "    .dataframe thead th {\n",
       "        text-align: right;\n",
       "    }\n",
       "</style>\n",
       "<table border=\"1\" class=\"dataframe\">\n",
       "  <thead>\n",
       "    <tr style=\"text-align: right;\">\n",
       "      <th></th>\n",
       "      <th>Accuracy</th>\n",
       "    </tr>\n",
       "    <tr>\n",
       "      <th>Model</th>\n",
       "      <th></th>\n",
       "    </tr>\n",
       "  </thead>\n",
       "  <tbody>\n",
       "    <tr>\n",
       "      <th>Multinomial NB</th>\n",
       "      <td>0.639269</td>\n",
       "    </tr>\n",
       "    <tr>\n",
       "      <th>LogisticRegression</th>\n",
       "      <td>0.630137</td>\n",
       "    </tr>\n",
       "    <tr>\n",
       "      <th>RandomForest</th>\n",
       "      <td>0.666667</td>\n",
       "    </tr>\n",
       "  </tbody>\n",
       "</table>\n",
       "</div>"
      ],
      "text/plain": [
       "                    Accuracy\n",
       "Model                       \n",
       "Multinomial NB      0.639269\n",
       "LogisticRegression  0.630137\n",
       "RandomForest        0.666667"
      ]
     },
     "execution_count": 31,
     "metadata": {},
     "output_type": "execute_result"
    }
   ],
   "source": [
    "summary"
   ]
  },
  {
   "cell_type": "markdown",
   "metadata": {},
   "source": [
    ">### TFIDF"
   ]
  },
  {
   "cell_type": "code",
   "execution_count": 32,
   "metadata": {},
   "outputs": [],
   "source": [
    "tfidf= TfidfVectorizer(stop_words=custom_list,max_features=4000, min_df=0.0001).fit(X_train)"
   ]
  },
  {
   "cell_type": "code",
   "execution_count": 33,
   "metadata": {},
   "outputs": [],
   "source": [
    "X_train_tfidf = tfidf.transform(X_train)\n",
    "X_test_tfidf = tfidf.transform(X_test)"
   ]
  },
  {
   "cell_type": "markdown",
   "metadata": {},
   "source": [
    "**Multinomial Naive Bayes**"
   ]
  },
  {
   "cell_type": "code",
   "execution_count": 34,
   "metadata": {},
   "outputs": [
    {
     "data": {
      "text/plain": [
       "MultinomialNB(alpha=1.0, class_prior=None, fit_prior=True)"
      ]
     },
     "execution_count": 34,
     "metadata": {},
     "output_type": "execute_result"
    }
   ],
   "source": [
    "nb = MultinomialNB()\n",
    "nb.fit(X_train_tfidf, y_train)"
   ]
  },
  {
   "cell_type": "code",
   "execution_count": 35,
   "metadata": {},
   "outputs": [],
   "source": [
    "y_pred= nb.predict(X_test_tfidf)"
   ]
  },
  {
   "cell_type": "code",
   "execution_count": 36,
   "metadata": {},
   "outputs": [],
   "source": [
    "score1=nb.score(X_test_tfidf,y_test)"
   ]
  },
  {
   "cell_type": "code",
   "execution_count": 37,
   "metadata": {},
   "outputs": [
    {
     "name": "stdout",
     "output_type": "stream",
     "text": [
      "accuracy score with MultinomialNB:  0.53\n"
     ]
    }
   ],
   "source": [
    "print('accuracy score with MultinomialNB: ',round(score1,3))"
   ]
  },
  {
   "cell_type": "code",
   "execution_count": null,
   "metadata": {},
   "outputs": [],
   "source": []
  },
  {
   "cell_type": "markdown",
   "metadata": {},
   "source": [
    "**Logistic Regression**"
   ]
  },
  {
   "cell_type": "code",
   "execution_count": 38,
   "metadata": {},
   "outputs": [],
   "source": [
    "lr= LogisticRegression(solver='newton-cg', C= 6,penalty='l2')"
   ]
  },
  {
   "cell_type": "code",
   "execution_count": 39,
   "metadata": {},
   "outputs": [
    {
     "data": {
      "text/plain": [
       "LogisticRegression(C=6, class_weight=None, dual=False, fit_intercept=True,\n",
       "          intercept_scaling=1, max_iter=100, multi_class='warn',\n",
       "          n_jobs=None, penalty='l2', random_state=None, solver='newton-cg',\n",
       "          tol=0.0001, verbose=0, warm_start=False)"
      ]
     },
     "execution_count": 39,
     "metadata": {},
     "output_type": "execute_result"
    }
   ],
   "source": [
    "lr.fit(X_train_tfidf,y_train)"
   ]
  },
  {
   "cell_type": "code",
   "execution_count": 40,
   "metadata": {},
   "outputs": [],
   "source": [
    "y_pred = lr.predict(X_test_tfidf)"
   ]
  },
  {
   "cell_type": "code",
   "execution_count": 41,
   "metadata": {},
   "outputs": [],
   "source": [
    "score2=lr.score(X_test_tfidf,y_test)"
   ]
  },
  {
   "cell_type": "code",
   "execution_count": 42,
   "metadata": {},
   "outputs": [
    {
     "name": "stdout",
     "output_type": "stream",
     "text": [
      "accuracy score with Logistic Regression:  0.621\n"
     ]
    }
   ],
   "source": [
    "print('accuracy score with Logistic Regression: ',round(score2,3))"
   ]
  },
  {
   "cell_type": "markdown",
   "metadata": {},
   "source": [
    "**Decesion Tree**"
   ]
  },
  {
   "cell_type": "code",
   "execution_count": 43,
   "metadata": {},
   "outputs": [
    {
     "name": "stdout",
     "output_type": "stream",
     "text": [
      "{'max_depth': 6, 'max_features': 500, 'max_leaf_nodes': 6, 'min_samples_split': 15}\n"
     ]
    }
   ],
   "source": [
    "params = {'max_depth':[3,4,5,6],\n",
    "         'max_leaf_nodes':[2,4,6],\n",
    "         'min_samples_split':[2,3,4,5,10,15,25],\n",
    "         'max_features':[5,10,50,100,500]}\n",
    "\n",
    "dtc_gs = GridSearchCV(DecisionTreeClassifier(), params, cv=5)\n",
    "dtc_gs.fit(X_train_tfidf, y_train)\n",
    "dtc = dtc_gs.best_estimator_\n",
    "print(dtc_gs.best_params_)"
   ]
  },
  {
   "cell_type": "code",
   "execution_count": 44,
   "metadata": {},
   "outputs": [],
   "source": [
    "dtc_pred = dtc.predict(X_test_tfidf)\n",
    "score3 = dtc.score(X_test_tfidf, y_test)"
   ]
  },
  {
   "cell_type": "code",
   "execution_count": 45,
   "metadata": {},
   "outputs": [
    {
     "name": "stdout",
     "output_type": "stream",
     "text": [
      "accuracy score with Decesion Tree:  0.425\n"
     ]
    }
   ],
   "source": [
    "print('accuracy score with Decesion Tree: ',round(score3,3))"
   ]
  },
  {
   "cell_type": "markdown",
   "metadata": {},
   "source": [
    "**Random Forest Tree Classifier**"
   ]
  },
  {
   "cell_type": "code",
   "execution_count": 46,
   "metadata": {},
   "outputs": [
    {
     "name": "stdout",
     "output_type": "stream",
     "text": [
      "{'max_features': 100, 'min_samples_leaf': 1, 'min_samples_split': 2, 'n_estimators': 30}\n"
     ]
    }
   ],
   "source": [
    "rf_params = {'n_estimators': [5,10,15,30,50],\n",
    "            'max_features':[5,20,50,100,250,500],\n",
    "            'min_samples_leaf':[1,5,10],\n",
    "            'min_samples_split':[2,5,20,25]}\n",
    "rf_gs = GridSearchCV(RandomForestClassifier(), rf_params, cv=5)\n",
    "rf_gs.fit(X_train_tfidf, y_train)\n",
    "rf = rf_gs.best_estimator_\n",
    "print(rf_gs.best_params_)"
   ]
  },
  {
   "cell_type": "code",
   "execution_count": 47,
   "metadata": {},
   "outputs": [],
   "source": [
    "rf_pred = rf.predict(X_test_tfidf)\n",
    "score4 = rf.score(X_test_tfidf, y_test)"
   ]
  },
  {
   "cell_type": "code",
   "execution_count": 48,
   "metadata": {},
   "outputs": [
    {
     "name": "stdout",
     "output_type": "stream",
     "text": [
      "accuracy score with Random Forest Tree:  0.589\n"
     ]
    }
   ],
   "source": [
    "print('accuracy score with Random Forest Tree: ',round(score4,3))"
   ]
  },
  {
   "cell_type": "code",
   "execution_count": 49,
   "metadata": {},
   "outputs": [],
   "source": [
    "# using TFIDF\n",
    "models = ['Multinomial NB','LogisticRegression','RandomForest']\n",
    "accuracy = [score1, score2, score4]\n",
    "summary = pd.DataFrame({'Model':models, 'Accuracy':accuracy})\n",
    "summary = pd.DataFrame(summary.set_index('Model'))"
   ]
  },
  {
   "cell_type": "code",
   "execution_count": 50,
   "metadata": {},
   "outputs": [
    {
     "data": {
      "text/html": [
       "<div>\n",
       "<style scoped>\n",
       "    .dataframe tbody tr th:only-of-type {\n",
       "        vertical-align: middle;\n",
       "    }\n",
       "\n",
       "    .dataframe tbody tr th {\n",
       "        vertical-align: top;\n",
       "    }\n",
       "\n",
       "    .dataframe thead th {\n",
       "        text-align: right;\n",
       "    }\n",
       "</style>\n",
       "<table border=\"1\" class=\"dataframe\">\n",
       "  <thead>\n",
       "    <tr style=\"text-align: right;\">\n",
       "      <th></th>\n",
       "      <th>Accuracy</th>\n",
       "    </tr>\n",
       "    <tr>\n",
       "      <th>Model</th>\n",
       "      <th></th>\n",
       "    </tr>\n",
       "  </thead>\n",
       "  <tbody>\n",
       "    <tr>\n",
       "      <th>Multinomial NB</th>\n",
       "      <td>0.529680</td>\n",
       "    </tr>\n",
       "    <tr>\n",
       "      <th>LogisticRegression</th>\n",
       "      <td>0.621005</td>\n",
       "    </tr>\n",
       "    <tr>\n",
       "      <th>RandomForest</th>\n",
       "      <td>0.589041</td>\n",
       "    </tr>\n",
       "  </tbody>\n",
       "</table>\n",
       "</div>"
      ],
      "text/plain": [
       "                    Accuracy\n",
       "Model                       \n",
       "Multinomial NB      0.529680\n",
       "LogisticRegression  0.621005\n",
       "RandomForest        0.589041"
      ]
     },
     "execution_count": 50,
     "metadata": {},
     "output_type": "execute_result"
    }
   ],
   "source": [
    "summary"
   ]
  },
  {
   "cell_type": "code",
   "execution_count": null,
   "metadata": {},
   "outputs": [],
   "source": []
  },
  {
   "cell_type": "markdown",
   "metadata": {},
   "source": [
    "### Getting a df from the TFIDF vectorizer"
   ]
  },
  {
   "cell_type": "code",
   "execution_count": 51,
   "metadata": {},
   "outputs": [],
   "source": [
    "df  = pd.DataFrame(X_train_tfidf,\n",
    "                   columns=tfidf.get_feature_names(),\n",
    "                   index=['data analyst','data engineer','data scientist','business intelligence',\n",
    "                          'senior data analyst','senior business intelligence','senior data scientist',\n",
    "                          'junior data analyst','junior data engineer'])"
   ]
  },
  {
   "cell_type": "code",
   "execution_count": 52,
   "metadata": {
    "scrolled": true
   },
   "outputs": [],
   "source": [
    "feature_array = np.array(tfidf.get_feature_names())\n",
    "tfidf_sorting = np.argsort(X_train_tfidf.toarray()).flatten()[::-1]"
   ]
  },
  {
   "cell_type": "code",
   "execution_count": 53,
   "metadata": {},
   "outputs": [],
   "source": [
    "n = 100\n",
    "top_n = feature_array[tfidf_sorting][:n]"
   ]
  },
  {
   "cell_type": "code",
   "execution_count": 54,
   "metadata": {},
   "outputs": [
    {
     "data": {
      "text/plain": [
       "(9, 4000)"
      ]
     },
     "execution_count": 54,
     "metadata": {},
     "output_type": "execute_result"
    }
   ],
   "source": [
    "df.shape"
   ]
  },
  {
   "cell_type": "code",
   "execution_count": 55,
   "metadata": {},
   "outputs": [
    {
     "data": {
      "text/plain": [
       "array(['modis', 'amanda', 'committed', 'predictive', 'privacy',\n",
       "       'collection', 'class', 'developed', 'talented', 'online',\n",
       "       'descriptive', 'departmental', 'adecco', 'cornerstone', 'laws',\n",
       "       'lodged', 'formally', 'processed', 'assessing', 'computational',\n",
       "       'agree', 'correctly', 'statements', 'modelling', 'submitted',\n",
       "       'proposals', 'dynamics', 'recognise', 'assess', 'handling',\n",
       "       'invite', 'range', 'workload', 'forms', 'likely', 'preparing',\n",
       "       'canberra', 'manipulation', 'undertaking', 'read', 'delivered',\n",
       "       'backgrounds', 'directed', 'allow', 'requests', 'professionals',\n",
       "       'expected', 'regarding', 'details', 'inclusion', 'query', 'centre',\n",
       "       'individuals', 'actively', 'workforce', 'member', 'industries',\n",
       "       'skill', 'datasets', 'patterns', 'personal', 'bring', 'mining',\n",
       "       'encourage', 'employment', 'national', 'mathematics', 'capability',\n",
       "       'set', 'managing', 'wide', 'employer', 'equal', 'real',\n",
       "       'statistics', 'identify', 'outcomes', 'qualifications', 'dynamic',\n",
       "       'candidates', 'group', 'statistical', 'related', 'button',\n",
       "       'diverse', 'offer', 'job', 'click', 'application', 'experienced',\n",
       "       'opportunities', 'processes', 'organisation', 'excellent',\n",
       "       'understanding', 'highly', 'contact', 'successful', 'years',\n",
       "       'based'], dtype='<U32')"
      ]
     },
     "execution_count": 55,
     "metadata": {},
     "output_type": "execute_result"
    }
   ],
   "source": [
    "top_n"
   ]
  },
  {
   "cell_type": "markdown",
   "metadata": {},
   "source": [
    "### Getting the top Features from the data"
   ]
  },
  {
   "cell_type": "code",
   "execution_count": 58,
   "metadata": {},
   "outputs": [],
   "source": [
    "index=['data analyst','data engineer','data scientist','business intelligence',\n",
    "                          'senior data analyst','senior business intelligence','senior data scientist',\n",
    "                          'junior data analyst','junior data engineer']"
   ]
  },
  {
   "cell_type": "code",
   "execution_count": 59,
   "metadata": {},
   "outputs": [],
   "source": [
    "def top_tfidf_feats(row, features, top_n=25):\n",
    "    ''' Get top n tfidf values in row and return them with their corresponding feature names.'''\n",
    "    topn_ids = np.argsort(row)[::-1][:top_n]\n",
    "    top_feats = [(features[i], row[i]) for i in topn_ids]\n",
    "    df = pd.DataFrame(top_feats)\n",
    "    df.columns = ['feature', 'tfidf']\n",
    "    return df"
   ]
  },
  {
   "cell_type": "code",
   "execution_count": 65,
   "metadata": {},
   "outputs": [],
   "source": [
    "# top_tfidf_feats(index,tfidf.get_feature_names(),top_n=25)"
   ]
  },
  {
   "cell_type": "code",
   "execution_count": 66,
   "metadata": {},
   "outputs": [],
   "source": [
    "index=['data analyst','data engineer','data scientist','business intelligence',\n",
    "                          'senior data analyst','senior business intelligence','senior data scientist',\n",
    "                          'junior data analyst','junior data engineer']"
   ]
  },
  {
   "cell_type": "code",
   "execution_count": 67,
   "metadata": {},
   "outputs": [],
   "source": [
    "def top_mean_feats(Xtr, features, grp_ids=None, min_tfidf=0.1, top_n=25):\n",
    "    ''' Return the top n features that on average are most important amongst documents in rows\n",
    "        indentified by indices in grp_ids. '''\n",
    "    if grp_ids:\n",
    "        D = X_train_tfidf[grp_ids].toarray()\n",
    "    else:\n",
    "        D = X_train_tfidf.toarray()\n",
    "\n",
    "    D[D < min_tfidf] = 0\n",
    "    tfidf_means = np.mean(D, axis=0)\n",
    "    return top_tfidf_feats(tfidf_means, features, top_n)"
   ]
  },
  {
   "cell_type": "code",
   "execution_count": 68,
   "metadata": {},
   "outputs": [],
   "source": [
    "# top_mean_feats(X_train_tfidf, tfidf.get_feature_names(), grp_ids=None, min_tfidf = 0.1, top_n= 10)"
   ]
  },
  {
   "cell_type": "code",
   "execution_count": 69,
   "metadata": {},
   "outputs": [],
   "source": [
    "def top_feats_by_class(X_train_tfidf, y_train, features, min_tfidf=0.1, top_n=25):\n",
    "    ''' Return a list of dfs, where each df holds top_n features and their mean tfidf value\n",
    "        calculated across documents with the same class label. '''\n",
    "    dfs = []\n",
    "    labels = np.unique(y_train)\n",
    "    for label in labels:\n",
    "        ids = np.where(y_train==label)\n",
    "        feats_df = top_mean_feats(X_train_tfidf,features, ids, min_tfidf=min_tfidf, top_n=top_n)\n",
    "        feats_df.label = label\n",
    "        dfs.append(feats_df)\n",
    "    return dfs"
   ]
  },
  {
   "cell_type": "code",
   "execution_count": 70,
   "metadata": {},
   "outputs": [],
   "source": [
    "feature_list=top_feats_by_class(X_train_tfidf, y_train, tfidf.get_feature_names(), min_tfidf=0.1, top_n=15)"
   ]
  },
  {
   "cell_type": "code",
   "execution_count": null,
   "metadata": {},
   "outputs": [],
   "source": []
  },
  {
   "cell_type": "code",
   "execution_count": 71,
   "metadata": {},
   "outputs": [],
   "source": [
    "def plot_tfidf_classfeats_h(dfs):\n",
    "    ''' Plot the data frames returned by the function plot_tfidf_classfeats(). '''\n",
    "    fig = plt.figure(figsize=(40, 9), facecolor=\"w\")\n",
    "    x = np.arange(len(dfs[0]))\n",
    "    for i, df in enumerate(dfs):\n",
    "        ax = fig.add_subplot(1, len(dfs), i+1)\n",
    "        ax.spines[\"top\"].set_visible(False)\n",
    "        ax.spines[\"right\"].set_visible(False)\n",
    "        ax.set_frame_on(False)\n",
    "        ax.get_xaxis().tick_bottom()\n",
    "        ax.get_yaxis().tick_left()\n",
    "        ax.set_xlabel(\"Mean Tf-Idf Score\", labelpad=16, fontsize=14)\n",
    "        ax.set_title(\"label = \" + str(df.label), fontsize=16)\n",
    "        ax.ticklabel_format(axis='x', style='sci', scilimits=(-2,2))\n",
    "        ax.barh(x, df.tfidf, align='center', color='#3F5D7D')\n",
    "        ax.set_yticks(x)\n",
    "        ax.set_ylim([-1, x[-1]+1])\n",
    "        yticks = ax.set_yticklabels(df.feature)\n",
    "        plt.subplots_adjust(bottom=0.09, right=0.97, left=0.15, top=0.95, wspace=0.52)\n",
    "    plt.show()"
   ]
  },
  {
   "cell_type": "code",
   "execution_count": 72,
   "metadata": {},
   "outputs": [
    {
     "data": {
      "image/png": "[encoded data removed]",
      "text/plain": [
       "<Figure size 2880x648 with 8 Axes>"
      ]
     },
     "metadata": {},
     "output_type": "display_data"
    }
   ],
   "source": [
    "plot_tfidf_classfeats_h(feature_list)"
   ]
  },
  {
   "cell_type": "code",
   "execution_count": 73,
   "metadata": {},
   "outputs": [
    {
     "name": "stdout",
     "output_type": "stream",
     "text": [
      "\n",
      " Topics in NMF model(Forbenius norm):\n",
      "topic #0new sql environment technology tools quality projects high organisation based years processes communication required leading provide join highly delivery deliver\n",
      "topic #1cloud aws java spark tech pipelines web python hadoop engineers javascript scala gcp devops end like new technology apache programming\n",
      "topic #2ssis ssrs ssas microsoft sql power database ms tabular custom azure powerbi format word end databases expert integration delivered modelling\n",
      "topic #3files north enterprise contribution groups expected document risk excellence collaboratively demonstrate delivery visit effective members community operational hints strathfield pursues\n",
      "topic #4ian artificial constant broader leading scope division offers au provides clinic believers virtually inspiration collaborations positions uniquely endeavour embraces surrounded\n",
      "topic #5azure iot architect lake microsoft integration sql factory storage paas jd organisations thank components warehouses stream stobbs zale applyclick batch\n",
      "topic #6bigquery avoid rspca medibank woolworths commute mssql accessing ms postgres typically apis understanding rewarding resident central kaggle inferential party relevant\n",
      "topic #7experis parent website lodge arises gt greythorn safesearch anz end doesn register speak leader attract phone safety directed conversation com\n",
      "topic #8analyse organizations commencement employment purchase checks applicants entertainment countries offer patterns heart reason choose wellbeing optimise better trust visa packaging\n",
      "topic #9spotfire methodologies reportsundertake projectsmapping informationanalyse skillsexposure trendsstrong dataskills quote analytical collect immediately pope teagan spotfireexperience xls reference accurate tibco timely\n",
      "\n"
     ]
    }
   ],
   "source": [
    "def print_top_words(model,features_names, n_top_words):\n",
    "    for topic_idx,topic in enumerate (model.components_):\n",
    "        message= \"topic #%d\" % topic_idx\n",
    "        message += ' '.join([features_names[i]\n",
    "                            for i in topic.argsort()[:-n_top_words - 1:-1]])\n",
    "        print(message)\n",
    "    print()\n",
    "    \n",
    "nmf = NMF(n_components=10, random_state=1, alpha=.1,l1_ratio =.5).fit(X_train_tfidf)\n",
    "\n",
    "print(\"\\n Topics in NMF model(Forbenius norm):\")\n",
    "tfidf_feature_names= tfidf.get_feature_names()\n",
    "print_top_words(nmf,tfidf_feature_names,20)\n",
    "        "
   ]
  },
  {
   "cell_type": "code",
   "execution_count": null,
   "metadata": {},
   "outputs": [],
   "source": []
  }
 ],
 "metadata": {
  "kernelspec": {
   "display_name": "Python 3",
   "language": "python",
   "name": "python3"
  },
  "language_info": {
   "codemirror_mode": {
    "name": "ipython",
    "version": 3
   },
   "file_extension": ".py",
   "mimetype": "text/x-python",
   "name": "python",
   "nbconvert_exporter": "python",
   "pygments_lexer": "ipython3",
   "version": "3.7.1"
  }
 },
 "nbformat": 4,
 "nbformat_minor": 2
}
